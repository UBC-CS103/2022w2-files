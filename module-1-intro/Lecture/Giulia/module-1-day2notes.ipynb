{
 "cells": [
  {
   "cell_type": "code",
   "execution_count": 1,
   "metadata": {},
   "outputs": [],
   "source": [
    "# You must run this cell once before you run any of the other cells in this file\n",
    "\n",
    "# Needed (once per notebook) to enable incredible cs103 powers!!\n",
    "from cs103 import * \n",
    "\n",
    "# This indicates we are going to use some code from the date_fact.py file\n",
    "from date_fact import *"
   ]
  },
  {
   "cell_type": "markdown",
   "metadata": {},
   "source": [
    "## Announcements\n",
    "\n",
    "The midterm is on a different date than what initially communicated: **March 8th at 7PM.**\n",
    "\n",
    "Deadlines reminder:\n",
    "- Setup tutorial (1/18)\n",
    "- Upcoming syllabus quiz (1/23)\n",
    "- Module 1 worksheet (1/23)"
   ]
  },
  {
   "cell_type": "markdown",
   "metadata": {},
   "source": [
    "# Module 1: Learning Goals\n",
    "\n",
    "At the end of this module, you will be able to:\n",
    "\n",
    "- Write statements that operate on primitive data including numbers, strings and booleans.\n",
    "- Write variable definitions and function definitions.\n",
    "- Write out the step-by-step evaluation of simple statements including function calls.\n",
    "- Use Jupyter notebooks to run Python code.\n"
   ]
  },
  {
   "cell_type": "markdown",
   "metadata": {},
   "source": [
    "## A little about programming\n",
    "\n",
    "A program is a sequence of instructions that allows you to perform a task. If you say the exact sequence of words, you will get the computer to do what you want. It’s a bit like magic!\n",
    "\n",
    "Here are the major pros and cons about programming:\n",
    "- PRO: The program will do exactly what you tell them to do.\n",
    "- CON: The program will do *exactly* what you tell them to do. That is, they do not \"interpret\" sentences like people do and are very finicky when it comes to grammar (syntax).\n",
    "\n",
    "Highly recommended: https://www.youtube.com/playlist?list=PLuXokptvWfg1H7-Vz8nK_LvBILHz_dG5F\n"
   ]
  },
  {
   "cell_type": "markdown",
   "metadata": {},
   "source": [
    "# What happens inside the computer?\n",
    "When our Python code runs, what does it do? Having a model of what happens so we can \"trace what the code will do\" will help us figure out what code to write to accomplish our goals and what's happening when our code goes wrong.\n",
    "\n",
    "It's much more important with these that we trace code on paper than on the computer, but we will eventually run the cell below as well. You can also try the online Python tutor: http://www.pythontutor.com/visualize.html#mode=edit"
   ]
  },
  {
   "cell_type": "code",
   "execution_count": 2,
   "metadata": {},
   "outputs": [
    {
     "data": {
      "text/plain": [
       "122"
      ]
     },
     "execution_count": 2,
     "metadata": {},
     "output_type": "execute_result"
    }
   ],
   "source": [
    "# Let's trace this code to understand what's happening.\n",
    "# To do that, we'll want to draw out the \"memory\" of the computer,\n",
    "# the place with all those slots that hold variables' values.\n",
    "\n",
    "a = 1\n",
    "\n",
    "b = a + 10\n",
    "\n",
    "a = a + 10\n",
    "\n",
    "a == b       # What does this evaluate to?\n",
    "\n",
    "\n",
    "b = a + b\n",
    "\n",
    "a = 100\n",
    "\n",
    "a + b        # What does this evaluate to?"
   ]
  },
  {
   "cell_type": "markdown",
   "metadata": {},
   "source": [
    "So, when we want to understand what code does, we need three things:\n",
    "\n",
    "- The code itself.\n",
    "- Which line of code we're working on now.\n",
    "- The memory of the computer (variables and their values).\n"
   ]
  },
  {
   "cell_type": "markdown",
   "metadata": {},
   "source": [
    "# Exercise 1\n",
    "- put 10 in variable *a*\n",
    "- put 66 in variable *y*\n",
    "- copy value stored in *y* in *x*\n",
    "- evaluate x > y"
   ]
  },
  {
   "cell_type": "code",
   "execution_count": 3,
   "metadata": {},
   "outputs": [
    {
     "data": {
      "text/plain": [
       "False"
      ]
     },
     "execution_count": 3,
     "metadata": {},
     "output_type": "execute_result"
    }
   ],
   "source": [
    "a = 10\n",
    "y = 66\n",
    "x = y\n",
    "x > y"
   ]
  },
  {
   "cell_type": "markdown",
   "metadata": {},
   "source": [
    "# Exercise 2\n",
    "- put \"y\" in variable *x*\n",
    "- test if *y* is equal to *x*\n",
    "\n",
    "Note that x exists because we ran the cell above. Check what happens if you restart the notebook and run this cell first."
   ]
  },
  {
   "cell_type": "code",
   "execution_count": 4,
   "metadata": {},
   "outputs": [
    {
     "data": {
      "text/plain": [
       "False"
      ]
     },
     "execution_count": 4,
     "metadata": {},
     "output_type": "execute_result"
    }
   ],
   "source": [
    "x = \"y\"\n",
    "y == x\n",
    "\n",
    "# As you can see, quotations differentiate the variable y from the string \"y\". \n",
    "# When you answer questions, always use quotations around strings to clearly identify \n",
    "# them as such."
   ]
  },
  {
   "cell_type": "markdown",
   "metadata": {},
   "source": [
    "# Exercise 3\n",
    "- put your name in a variable *name*\n",
    "- test if *name* is greater than \"Julia\"\n",
    "\n",
    "What does it mean for a string to be greater than another?\n",
    "\n",
    "For the values associated to each character, you can look up an Ascii table like this one: https://commons.wikimedia.org/wiki/File:ASCII-Table-wide.svg"
   ]
  },
  {
   "cell_type": "code",
   "execution_count": 5,
   "metadata": {},
   "outputs": [
    {
     "data": {
      "text/plain": [
       "True"
      ]
     },
     "execution_count": 5,
     "metadata": {},
     "output_type": "execute_result"
    }
   ],
   "source": [
    "name = \"Giulia\"\n",
    "name > \"Gabriel\"\n",
    "\n",
    "# Strings are compared alphabetically using their ASCII code (you don't have to \n",
    "# memorize it!).\n",
    "# For consistent comparisons, it is better to use all lower case or all upper case\n",
    "# strings, since upper case characters have lower ASCII codes."
   ]
  },
  {
   "cell_type": "markdown",
   "metadata": {},
   "source": [
    "# Date Facts\n",
    "\n",
    "Let's check some fun facts that happened on a date. We will use the the API http://numbersapi.com/. Think of an API a way for us to communicate with another computer to get the information we need. \n",
    "\n",
    "The code inside the file `date_fact.py` gives us the following functions:\n",
    "\n",
    "- `get_date_fact(month: int, day: int) -> str`\n",
    "\n",
    "\n",
    "- `get_number_fact(number: int) -> str`\n",
    "\n",
    "\n",
    "- `get_year_fact(year: int) -> str`\n",
    "\n",
    "Before we dive in, though, what is a function? \n",
    "\n",
    "We'll define them many ways, and they'll be the heart of everything we do. For now, though, let's say that a function is \"something interesting the Python programming language knows how to do, which we can ask it to do by name\"."
   ]
  },
  {
   "cell_type": "code",
   "execution_count": 6,
   "metadata": {
    "scrolled": true
   },
   "outputs": [
    {
     "data": {
      "text/plain": [
       "\"the monument of Ale's Stones is built in Sweden (approximate date)\""
      ]
     },
     "execution_count": 6,
     "metadata": {},
     "output_type": "execute_result"
    }
   ],
   "source": [
    "# Get some trivia from the year you were born!\n",
    "\n",
    "# First, take a look at the names of the functions. Out of the three\n",
    "# functions listed above, which one do you think we should use?\n",
    "\n",
    "# Now, look at the signature of the function you have chosen.\n",
    "# What kind of information does it ask for (hint: what parameters are listed\n",
    "# in the signature)?\n",
    "\n",
    "# Try to call (i.e., use) the function!\n",
    "\n",
    "get_year_fact(1990)\n",
    "get_year_fact(1991)\n",
    "get_year_fact(500)\n",
    "\n",
    "# Terminology check: What do you call the value you called the function with?\n",
    "# Answer: argument"
   ]
  },
  {
   "cell_type": "markdown",
   "metadata": {},
   "source": [
    "# Quick Pause\n",
    "Notice how the output from the function does not include the year. \n",
    "\n",
    "The argument does not necessarily need to be included in the output of a function. We can include it if we want, but it is not mandated.\n",
    "\n",
    "Let's change the output to also include the year."
   ]
  },
  {
   "cell_type": "code",
   "execution_count": 7,
   "metadata": {},
   "outputs": [
    {
     "data": {
      "text/plain": [
       "'In the year 1992 Kyrgyz President Kurmanbek Bakiyev flees Bishkek amid fierce rioting, sparking a sociopolitical crisis'"
      ]
     },
     "execution_count": 7,
     "metadata": {},
     "output_type": "execute_result"
    }
   ],
   "source": [
    "\"In the year 1992 \" + get_year_fact(2010)"
   ]
  },
  {
   "cell_type": "markdown",
   "metadata": {},
   "source": [
    "# Changing Things Up\n",
    "What happens if we want to find facts from another year?\n",
    "\n",
    "Is there an easier way to change the value of the year without having to remember all the places the year appeared in?"
   ]
  },
  {
   "cell_type": "code",
   "execution_count": 8,
   "metadata": {},
   "outputs": [
    {
     "data": {
      "text/plain": [
       "'In the year 1991 the Super Nintendo Entertainment System (or \"Super Nintendo\") is released in the United States'"
      ]
     },
     "execution_count": 8,
     "metadata": {},
     "output_type": "execute_result"
    }
   ],
   "source": [
    "x = 1991\n",
    "\"In the year \" + str(x) + \" \" + get_year_fact(x)\n",
    "\n",
    "# str() is necessary to avoid having inconsistent types on the two sides of the +\n",
    "# (Python can use + for addition - with numbers - or concatenation - with strings,\n",
    "# so consistency is important to clarify which one we want).\n",
    "\n",
    "# Note that str(x) changes x to a string only where it is used. Later, we keep\n",
    "# using it as an integer (like in the function call)"
   ]
  },
  {
   "cell_type": "markdown",
   "metadata": {},
   "source": [
    "Check in: https://www.menti.com/zfehpniw4a"
   ]
  },
  {
   "cell_type": "markdown",
   "metadata": {},
   "source": [
    "# What Happened on Your Date of Birth?\n",
    "Write some code to find an event that happened on your birth date. Follow the same steps as before.\n",
    "\n",
    "1. Take a look at the names of the functions. Out of the three functions listed above, which one should we use?\n",
    "2. Take a look at the signature. What kind of information is the function asking for? What kind of data type is it?\n",
    "3. Try to call the function!"
   ]
  },
  {
   "cell_type": "code",
   "execution_count": 9,
   "metadata": {},
   "outputs": [
    {
     "data": {
      "text/plain": [
       "'the Last Invasion of Britain begins near Fishguard, Wales'"
      ]
     },
     "execution_count": 9,
     "metadata": {},
     "output_type": "execute_result"
    }
   ],
   "source": [
    "get_date_fact(2, 22)"
   ]
  },
  {
   "cell_type": "markdown",
   "metadata": {},
   "source": [
    "Now, try to include information about your date of birth before the fun fact! For example, if your birthday was on June 18 and the fact produced for this particular day is \"Shivaji, founder of the Maratha empire is crowned\", your code should produce \"On 6/18 Shivaji, founder of the Maratha empire is crowned\".\n",
    "\n",
    "Can you do this in a way that makes it easy for us to change the values for the birth month and day?"
   ]
  },
  {
   "cell_type": "code",
   "execution_count": 10,
   "metadata": {},
   "outputs": [
    {
     "data": {
      "text/plain": [
       "'On 8/3 the Castle Gate mine disaster kills 172 coal miners near Castle Gate, Utah'"
      ]
     },
     "execution_count": 10,
     "metadata": {},
     "output_type": "execute_result"
    }
   ],
   "source": [
    "month = 3\n",
    "day = 8\n",
    "\n",
    "\"On \" + str(day) + \"/\" + str(month) + \" \" + get_date_fact(month, day)"
   ]
  },
  {
   "cell_type": "markdown",
   "metadata": {},
   "source": [
    "# Improving on Greatness\n",
    "Let's make the output better. \n",
    "\n",
    "Instead of using numbers to describe a month, let's use the month's name, i.e., instead of 6/18 let's write June 18."
   ]
  },
  {
   "cell_type": "code",
   "execution_count": 11,
   "metadata": {},
   "outputs": [
    {
     "data": {
      "text/plain": [
       "'On December 8 a United States Air Force A-10 Thunderbolt II crashes into an apartment complex in Remscheid, Germany, killing 5 people and injuring 50 others'"
      ]
     },
     "execution_count": 11,
     "metadata": {},
     "output_type": "execute_result"
    }
   ],
   "source": [
    "month = 12\n",
    "day = 8\n",
    "\n",
    "if month == 1:\n",
    "    monthString = \"January\"\n",
    "elif month == 2:\n",
    "    monthString = \"February\"\n",
    "elif month == 3:\n",
    "    monthString = \"March\"\n",
    "elif month == 4:\n",
    "    monthString = \"April\"\n",
    "elif month == 5:\n",
    "    monthString = \"May\"\n",
    "elif month == 6:\n",
    "    monthString = \"June\"\n",
    "elif month == 7:\n",
    "    monthString = \"July\"\n",
    "elif month == 8:\n",
    "    monthString = \"August\"\n",
    "elif month == 9:\n",
    "    monthString = \"September\"\n",
    "elif month == 10:\n",
    "    monthString = \"October\"\n",
    "elif month == 11:\n",
    "    monthString = \"November\"\n",
    "elif month == 12:\n",
    "    monthString = \"December\"\n",
    "else:\n",
    "    month_string = \"Unknown\"\n",
    "\n",
    "\"On \" + monthString + \" \" + str(day) + \" \" + get_date_fact(month, day)\n",
    "\n",
    "# It took a while to write this long if statement! But, once we are done with it,\n",
    "# we only have to change the values of the variables at line 1 and 2, and we are\n",
    "# sure our output will always be consistent. Having to repeatedly change month\n",
    "# and day in multiple parts of the code will likely lead to errors."
   ]
  },
  {
   "cell_type": "markdown",
   "metadata": {},
   "source": [
    "# From the quiz: sqrt\n",
    "\n",
    "Recall the quiz question 10\n",
    "```\n",
    "x = 9\n",
    "sqrt(9) # a built-in math function that returns the square root of its input\n",
    "```\n",
    "What is the value of x after the function call?"
   ]
  },
  {
   "cell_type": "code",
   "execution_count": 12,
   "metadata": {},
   "outputs": [
    {
     "data": {
      "text/plain": [
       "3.0"
      ]
     },
     "execution_count": 12,
     "metadata": {},
     "output_type": "execute_result"
    }
   ],
   "source": [
    "from math import *\n",
    "\n",
    "x = 9\n",
    "sqrt(9)\n",
    "\n",
    "# The output of this cell is 3.0, because that is the result of sqrt(x).\n",
    "# However, the value of x is still 9, because x was never assigned a new value.\n",
    "# If we wanted to do that, we would have to write x = sqrt(x)"
   ]
  },
  {
   "cell_type": "markdown",
   "metadata": {},
   "source": [
    "# Writing your own functions\n",
    "\n",
    "So far, we have learned that functions are pretty great! \n",
    "- They allow us to perform an action without having to rewrite the code every time\n",
    "- We can use other people's functions without knowing how they work, just what arguments they need and what they return\n",
    "\n",
    "Naturally, you will want to be able to write your own functions."
   ]
  },
  {
   "cell_type": "markdown",
   "metadata": {},
   "source": [
    "# Checking the Sign\n",
    "\n",
    "**Problem:** Check if a number is positive or negative."
   ]
  },
  {
   "cell_type": "code",
   "execution_count": 13,
   "metadata": {},
   "outputs": [
    {
     "data": {
      "text/plain": [
       "'Zero'"
      ]
     },
     "execution_count": 13,
     "metadata": {},
     "output_type": "execute_result"
    }
   ],
   "source": [
    "number = 0\n",
    "output = \"Unknown\"\n",
    "\n",
    "if number > 0:\n",
    "    output = \"Positive\"\n",
    "elif number == 0:\n",
    "    output = \"Zero\"\n",
    "else:\n",
    "    output = \"Negative\"\n",
    "    \n",
    "output\n",
    "\n",
    "# if statements are simple, but can vary. One needs to know what happens at each branch\n",
    "# to use them well.\n",
    "\n",
    "# if branch: tests a condition; it is always necessary in an if block (you can not have\n",
    "# elif or else without it).\n",
    "\n",
    "# elif: add if you want to test additional conditions.\n",
    "\n",
    "# else: add if you want a default action to be taken if no condition is true.\n",
    "\n",
    "# For practice, you can try changing the order of the conditions in this if statement \n",
    "# (e.g. test the zero value first, then negative...)"
   ]
  },
  {
   "cell_type": "markdown",
   "metadata": {},
   "source": [
    "### More `if` examples\n",
    "\n",
    "An example with only `if`. Nothing happens if the condition is false (`output` stays the same):"
   ]
  },
  {
   "cell_type": "code",
   "execution_count": 14,
   "metadata": {},
   "outputs": [
    {
     "data": {
      "text/plain": [
       "'Unknown'"
      ]
     },
     "execution_count": 14,
     "metadata": {},
     "output_type": "execute_result"
    }
   ],
   "source": [
    "number = 0\n",
    "output = \"Unknown\"\n",
    "\n",
    "if number > 0:\n",
    "    output = \"Positive\"\n",
    "    \n",
    "output\n"
   ]
  },
  {
   "cell_type": "markdown",
   "metadata": {},
   "source": [
    "**Important:** in an `if` block, the first True condition terminates the block, and no other conditions are checked. Check out what happens in this example when `num = 6`:"
   ]
  },
  {
   "cell_type": "code",
   "execution_count": 15,
   "metadata": {},
   "outputs": [
    {
     "data": {
      "text/plain": [
       "'Divisible by 2'"
      ]
     },
     "execution_count": 15,
     "metadata": {},
     "output_type": "execute_result"
    }
   ],
   "source": [
    "# The module operator (%) returns the remainder of a division.\n",
    "# For example, 10 % 3 is 1, because 3 fits in 10 3 times with a remainder of 1.\n",
    "# It is commonly used to test if a number is divisible by another, \n",
    "# in which case the remainder is 0.\n",
    "\n",
    "num = 6\n",
    "\n",
    "if num % 2 == 0:\n",
    "    output = \"Divisible by 2\"\n",
    "elif num % 3 == 0:\n",
    "    output = \"Divisible by 3\"\n",
    "else:\n",
    "    output = \"Not divisible\"\n",
    "    \n",
    "output"
   ]
  },
  {
   "cell_type": "markdown",
   "metadata": {},
   "source": [
    "We get \"Divisible by 2\". True, but maybe we also wanted to see \"Divisible by 3\", since both apply. In this case, it may be better to have another option for both. Also, remember to put the more stringent condition first, to avoid leaving the block too soon."
   ]
  },
  {
   "cell_type": "code",
   "execution_count": 16,
   "metadata": {},
   "outputs": [
    {
     "data": {
      "text/plain": [
       "'Divisible by 2 and by 3'"
      ]
     },
     "execution_count": 16,
     "metadata": {},
     "output_type": "execute_result"
    }
   ],
   "source": [
    "num = 6\n",
    "\n",
    "if num % 2 == 0 and num % 3 == 0:        # If you are curious, move this condition lower in the block and see what happens\n",
    "    output = \"Divisible by 2 and by 3\"\n",
    "elif num % 2 == 0:\n",
    "    output = \"Divisible by 2\"\n",
    "elif num % 3 == 0:\n",
    "    output = \"Divisible by 3\"\n",
    "else:\n",
    "    output = \"Not divisible\"\n",
    "    \n",
    "output"
   ]
  },
  {
   "cell_type": "markdown",
   "metadata": {},
   "source": [
    "# Checking the Sign (reprise)\n",
    "\n",
    "**Problem:** Write a function to check if a number is positive or negative."
   ]
  },
  {
   "cell_type": "code",
   "execution_count": 17,
   "metadata": {},
   "outputs": [],
   "source": [
    "def check_sign(number: int) -> str:\n",
    "    output = \"\"\n",
    "    if number > 0:\n",
    "        output = \"Positive\"\n",
    "    elif number == 0:\n",
    "        output = \"Zero\"\n",
    "    else:\n",
    "        output = \"Negative\"\n",
    "    return output\n",
    "    "
   ]
  },
  {
   "cell_type": "markdown",
   "metadata": {},
   "source": [
    "Now, test it by calling it on a few numbers (or variables)."
   ]
  },
  {
   "cell_type": "code",
   "execution_count": 18,
   "metadata": {},
   "outputs": [
    {
     "data": {
      "text/plain": [
       "'Positive'"
      ]
     },
     "execution_count": 18,
     "metadata": {},
     "output_type": "execute_result"
    }
   ],
   "source": [
    "check_sign(2)"
   ]
  },
  {
   "cell_type": "markdown",
   "metadata": {},
   "source": [
    "For next class: let's take a moment to think about functions more: https://www.menti.com/rcsyu11e5q"
   ]
  },
  {
   "cell_type": "markdown",
   "metadata": {},
   "source": [
    "# Repeating a String\n",
    "\n",
    "**Problem:** Repeat a given string.\n",
    "\n",
    "Let's analyse those functions. Which ones are correct?"
   ]
  },
  {
   "cell_type": "code",
   "execution_count": 19,
   "metadata": {},
   "outputs": [],
   "source": [
    "# Function 1\n",
    "def RepeatIt(thing):\n",
    "    return thing+thing\n",
    "\n",
    "# Function 2\n",
    "def repeat_it(string):\n",
    "    string*2\n",
    "      \n",
    "# Function 3 \n",
    "def repeat_string_once2(string):\n",
    "    return 'string' + 'string'\n",
    "\n",
    "# Function 4 \n",
    "def repeat_string_once(string):\n",
    "    return string*2\n",
    "\n",
    "# Function 5 \n",
    "def repeat(s):\n",
    "    new_s = s + s\n",
    "    return new_s"
   ]
  },
  {
   "cell_type": "code",
   "execution_count": 20,
   "metadata": {},
   "outputs": [
    {
     "data": {
      "text/plain": [
       "'HelloHello WorldWorld!!'"
      ]
     },
     "execution_count": 20,
     "metadata": {},
     "output_type": "execute_result"
    }
   ],
   "source": [
    "# Let's try CALLING those functions!\n",
    "\n",
    "repeat('Hello') + ' ' + repeat('World') + repeat('!')\n"
   ]
  }
 ],
 "metadata": {
  "kernelspec": {
   "display_name": "Python 3 (ipykernel)",
   "language": "python",
   "name": "python3"
  },
  "language_info": {
   "codemirror_mode": {
    "name": "ipython",
    "version": 3
   },
   "file_extension": ".py",
   "mimetype": "text/x-python",
   "name": "python",
   "nbconvert_exporter": "python",
   "pygments_lexer": "ipython3",
   "version": "3.10.8"
  }
 },
 "nbformat": 4,
 "nbformat_minor": 4
}
