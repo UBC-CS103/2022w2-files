{
 "cells": [
  {
   "cell_type": "code",
   "execution_count": null,
   "metadata": {},
   "outputs": [],
   "source": [
    "from cs103 import *\n"
   ]
  },
  {
   "cell_type": "markdown",
   "metadata": {},
   "source": [
    "# CPSC 103 - Systematic Program Design\n",
    "# Module 05a Day 2\n",
    "Rik Blok, with thanks to Prof. Giulia Toti\n",
    "\n",
    "---"
   ]
  },
  {
   "cell_type": "markdown",
   "metadata": {},
   "source": [
    "# Reminders\n",
    "- Fri 11am: [Midterm accommodations request](https://ubc.ca1.qualtrics.com/jfe/form/SV_ety7d3zVVGYonP0)\n",
    "\n",
    "<div class=\"alert alert-warning\">\n",
    "\n",
    "### ⚠️ Fri: Project proposal\n",
    "    \n",
    "A high-level description of what you intend to do.\n",
    "    \n",
    "Things to watch out for:\n",
    "- Do not use a forbidden data set\n",
    "- If you took the course before, you cannot reuse the same project\n",
    "- If you want to use your own source, it should have at least 3 columns and 100 rows, and generally be \"good enough\" to work with it; ask us if you are unsure\n",
    "- Ask your [project mentor](https://canvas.ubc.ca/courses/106343/pages/project-mentor-assignments) if you have questions\n",
    "\n",
    "</div>\n",
    "\n",
    "- Wed Feb 22: Module 2 (HtDF): Tutorial Resubmission\n",
    "- Mon Feb 27: Module 5 Part 2: Pre-Lecture Assignment\n",
    "\n",
    "See also the [course calendar](https://canvas.ubc.ca/calendar?include_contexts=course_106343) (**[v.gd/6KJtbx](https://v.gd/6KJtbx)**).\n",
    "\n",
    "---"
   ]
  },
  {
   "cell_type": "markdown",
   "metadata": {},
   "source": [
    "# Arbitrary-size data\n",
    "\n",
    "What are some examples of information that would be well-represented as arbitrary-sized data?\n",
    "\n",
    "---"
   ]
  },
  {
   "cell_type": "markdown",
   "metadata": {},
   "source": [
    "# Accumulator\n",
    "\n",
    "Recall, an *accumulator* is used in the template for list data definitions:\n",
    "- Stores useful data about our progress through the list\n",
    "- No special meaning to Python, just another variable\n",
    "- You can rename it from `acc` to something more meaningful\n",
    "- You can create multiple accumulator variables, if necessary\n",
    "\n",
    "---"
   ]
  },
  {
   "cell_type": "markdown",
   "metadata": {},
   "source": [
    "# From last time: `List[str]` Data Definition "
   ]
  },
  {
   "cell_type": "code",
   "execution_count": null,
   "metadata": {},
   "outputs": [],
   "source": [
    "from typing import List\n",
    "\n",
    "# List[str]\n",
    "# interp. a list of strings\n",
    "LOS0 = []\n",
    "LOS1 = [\"hello\", \"goodbye\", \"Beatles\"]\n",
    "\n",
    "@typecheck\n",
    "# template based on arbitrary-sized\n",
    "def fn_for_los(los: List[str]) -> ...:\n",
    "    # description of the accumulator\n",
    "    acc = ...   # type: ...\n",
    "\n",
    "    for s in los:\n",
    "        acc = ...(s, acc)\n",
    "\n",
    "    return ...(acc)\n"
   ]
  },
  {
   "cell_type": "markdown",
   "metadata": {},
   "source": [
    "# Designing a data definition for a list of integers\n",
    "\n",
    "**Problem:** design a data definition for a list of integers.\n",
    "\n",
    "Once we've learned how to design other data definitions and realize that a data definition for a particular problem needs to be a list, these tend to be fairly straightforward to complete. Let's practice one quickly this week.\n",
    "\n",
    "Next week, we'll see how things change (for lists, optionals, and compounds!) when a data definition we create refers to another data definition we created!"
   ]
  },
  {
   "cell_type": "code",
   "execution_count": null,
   "metadata": {},
   "outputs": [],
   "source": [
    "# TODO: Design a data definition for a list of integers\n",
    "\n"
   ]
  },
  {
   "cell_type": "markdown",
   "metadata": {},
   "source": [
    "<details class=\"alert alert-info\" style=\"cursor:pointer;\"><summary style=\"display:list-item\">ℹ️ Sample solution (For later.  Don't peek if you want to learn 🙂)</summary>\n",
    "    \n",
    "```python\n",
    "from typing import List\n",
    "\n",
    "# List[int]\n",
    "# interp. a list of integers\n",
    "LOI_EMPTY = []\n",
    "LOI0 = [0]\n",
    "LOI1 = [-10, 0, 100]\n",
    "\n",
    "@typecheck\n",
    "# template based on arbitrary-sized\n",
    "def fn_for_loi(loi: List[int]) -> ...:\n",
    "    # description of the accumulator\n",
    "    acc = ...   # type: ...\n",
    "\n",
    "    for i in loi:\n",
    "        acc = ...(i, acc)\n",
    "\n",
    "    return ...(acc)\n",
    "```\n",
    "    \n",
    "</details>\n",
    "\n",
    "---"
   ]
  },
  {
   "cell_type": "markdown",
   "metadata": {},
   "source": [
    "# Exercise 1: Find the largest integer\n",
    "\n",
    "**Problem:** Find the largest integer in a list."
   ]
  },
  {
   "cell_type": "code",
   "execution_count": null,
   "metadata": {},
   "outputs": [],
   "source": [
    "# TODO: Follow the HtDF recipe to write a function that finds the largest integer in a list\n",
    "\n"
   ]
  },
  {
   "cell_type": "markdown",
   "metadata": {},
   "source": [
    "<details class=\"alert alert-warning\" style=\"cursor:pointer;\"><summary style=\"display:list-item\">⚠️ Things to watch out for! (Read after completing your solution.)</summary>\n",
    "    \n",
    "- Did you consider the possibility of an empty list?\n",
    "- How did you initialize your accumulator?\n",
    "    \n",
    "</details>"
   ]
  },
  {
   "cell_type": "markdown",
   "metadata": {},
   "source": [
    "<details class=\"alert alert-info\" style=\"cursor:pointer;\"><summary style=\"display:list-item\">ℹ️ Sample solution (For later.  Don't peek if you want to learn 🙂)</summary>\n",
    "    \n",
    "```python\n",
    "from typing import Optional\n",
    "\n",
    "@typecheck\n",
    "def largest_int(loi: List[int]) -> Optional[int]:\n",
    "    \"\"\"\n",
    "    Returns the largest integer from the list `loi`.\n",
    "    Returns None if the list is empty.\n",
    "    \"\"\"\n",
    "    # return 0 # stub\n",
    "    # Template from List[int]\n",
    "\n",
    "    # Return None if the list is empty\n",
    "    if loi == []:\n",
    "        return None\n",
    "    \n",
    "    # largest integer so far in the list\n",
    "    largest = loi[0]   # type: int\n",
    "\n",
    "    for i in loi:\n",
    "        if i > largest:\n",
    "            largest = i\n",
    "\n",
    "    return largest\n",
    "\n",
    "start_testing()\n",
    "\n",
    "expect(largest_int([]), None)\n",
    "expect(largest_int(LOI0), 0)\n",
    "expect(largest_int(LOI1), 100)\n",
    "expect(largest_int([-1]), -1)\n",
    "expect(largest_int([3, -1, 4, -1, 5, -9, 2, -6, 3]), 5)\n",
    "\n",
    "summary()\n",
    "```\n",
    "    \n",
    "</details>\n",
    "\n",
    "---"
   ]
  },
  {
   "cell_type": "markdown",
   "metadata": {},
   "source": [
    "# Exercise 2: Find the even numbers\n",
    "\n",
    "**Problem:** Find all the even numbers in a list.\n",
    "\n",
    "First, let's brainstorm an outline to the solution.\n",
    "\n",
    "### Two subproblems\n",
    "\n",
    "In solving this problem, you can expect to encounter two subproblems: \n",
    "1. How do you check if a number is even?\n",
    "2. How do you attach a new item to the end of a list?\n",
    "\n",
    "Let's solve each of these subproblems now."
   ]
  },
  {
   "cell_type": "markdown",
   "metadata": {},
   "source": [
    "<div class=\"alert alert-info\">\n",
    "\n",
    "### ℹ️ Tip 1: `%` (modulo) operator\n",
    "    \n",
    "From the [Python Language Reference](https://docs.python.org/3/reference/expressions.html#binary-arithmetic-operations): \n",
    "    \n",
    "> The `%` (modulo) operator yields the remainder from the division of the first argument by the second.\n",
    "    \n",
    "**Examples** \n",
    "    \n",
    "| Expression | Value | Reason | In other words  |\n",
    "|-----------:|:------|:------:|:---------------:|\n",
    "| `4 % 2`    | `0`   | 4 divided by 2 is 2 with remainder 0 | `4 == 2*2 + 0`  |\n",
    "| `5 % 2`    | `1`   | 5 divided by 2 is 2 with remainder 1 | `5 == 2*2 + 1`  |\n",
    "| `6 % 2`    | `0`   | 6 divided by 2 is 3 with remainder 0 | `6 == 3*2 + 0` |\n",
    "| `6.5 % 2`  | `0.5` | 6.5 divided by 2 is 3 with remainder 0.5 | `6.5 == 3*2 + 0.5` |\n",
    "    \n",
    "</div>"
   ]
  },
  {
   "cell_type": "markdown",
   "metadata": {},
   "source": [
    "<img style=\"float: right; width:10%\" src=\"https://lthub.ubc.ca/files/2020/07/iClicker-Cloud-Logo.png\">\n",
    "\n",
    "### iClicker question: How to check if a number is even?\n",
    "\n",
    "You want to determine if a number `i` is even.  Which expression will return `True` if and only if `i` is even?\n",
    "\n",
    "A. ```2 % i != 0```  \n",
    "B. ```2 % i == 0```  \n",
    "C. ```i % 2 != 0```  \n",
    "D. ```i % 2 == 0```  \n",
    "\n",
    "<details class=\"alert alert-info\"><summary style=\"cursor:pointer; display:list-item\">ℹ️ Hint (for your review after class)</summary>\n",
    "    \n",
    "What is the remainder of dividing the number into 2?  What should it be for an even number?\n",
    "\n",
    "</details>\n",
    "\n",
    "\n",
    "---"
   ]
  },
  {
   "cell_type": "markdown",
   "metadata": {},
   "source": [
    "<div class=\"alert alert-info\">\n",
    "\n",
    "### ℹ️ Tip 2: Appending to a list\n",
    "    \n",
    "The [Python Language Reference](https://docs.python.org/3/tutorial/datastructures.html#more-on-lists) tells us how to append (add to the end) items to an existing list:\n",
    "    \n",
    "1. We can join two lists with the `+` operator, or\n",
    "2. We can append a single item with the `.append` method.\n",
    "    \n",
    "**Examples** \n",
    "\n",
    "```python\n",
    "los1 = ['one', 'two']\n",
    "los2 = ['three', 'four']\n",
    "item = 'three'\n",
    "\n",
    "# join two lists with the `+` operator\n",
    "los1 + los2  # evaluates to ['one', 'two', 'three', 'four']\n",
    "\n",
    "# append a single item to `los1`\n",
    "los1.append(item) # updates `los1` to be ['one', 'two', 'three']\n",
    "```\n",
    "\n",
    "Try them out for yourself in the cell below!\n",
    "    \n",
    "</div>"
   ]
  },
  {
   "cell_type": "code",
   "execution_count": null,
   "metadata": {},
   "outputs": [],
   "source": [
    "los1 = ['one', 'two']\n",
    "los2 = ['three', 'four']\n",
    "item = 'three'\n",
    "\n",
    "# Try them out here!\n"
   ]
  },
  {
   "cell_type": "markdown",
   "metadata": {},
   "source": [
    "<img style=\"float: right; width:10%\" src=\"https://lthub.ubc.ca/files/2020/07/iClicker-Cloud-Logo.png\">\n",
    "\n",
    "### iClicker question: How to append an item to a list?\n",
    "\n",
    "```python\n",
    "los1 = ['one', 'two']\n",
    "item = 'three'\n",
    "```\n",
    "\n",
    "You want to update the list `los1` above to contain `['one', two', 'three'].  Which expression will perform the task?  Select ALL that apply.\n",
    "\n",
    "A. ```los1 + item```  \n",
    "B. ```los1 + [item]```  \n",
    "C. ```los1 = los1 + item```  \n",
    "D. ```los1 = los1 + [item]```  \n",
    "E. ```los1 = los1.append(item)```  \n",
    "\n",
    "<details class=\"alert alert-info\"><summary style=\"cursor:pointer; display:list-item\">ℹ️ Hint (for your review after class)</summary>\n",
    "    \n",
    "Remember, `+` joins two *lists*.  In which cases do we need to assign the result to a variable?\n",
    "\n",
    "</details>\n",
    "\n",
    "---"
   ]
  },
  {
   "cell_type": "markdown",
   "metadata": {},
   "source": [
    "### Back to Exercise 2: Find the even numbers\n",
    "\n",
    "**Problem:** Find all the even numbers in a list.\n",
    "\n",
    "Let's complete Steps 1–3 (**S**tub, **E**xamples, and **T**emplate) of the HtDF recipe together.  Then you'll finish the remaining steps on your own."
   ]
  },
  {
   "cell_type": "code",
   "execution_count": null,
   "metadata": {},
   "outputs": [],
   "source": [
    "# TODO: Your program goes here\n",
    "\n"
   ]
  },
  {
   "cell_type": "markdown",
   "metadata": {},
   "source": [
    "<details class=\"alert alert-info\" style=\"cursor:pointer;\"><summary style=\"display:list-item\">ℹ️ Sample solution of HtDF Steps 1–3 (For later.  Don't peek if you want to learn 🙂)</summary>\n",
    "    \n",
    "```python\n",
    "@typecheck\n",
    "def even_numbers_from(loi: List[int]) -> List[int]:\n",
    "    \"\"\"\n",
    "    Returns a list containing just the even numbers from the original list `loi`,\n",
    "    in the original order.\n",
    "    \"\"\"\n",
    "    # return [] # stub\n",
    "\n",
    "    # description of the accumulator\n",
    "    acc = ...   # type: ...\n",
    "\n",
    "    for i in loi:\n",
    "        acc = ...(i, acc)\n",
    "\n",
    "    return ...(acc)\n",
    "\n",
    "start_testing()\n",
    "\n",
    "expect(even_numbers_from(LOI_EMPTY), [])\n",
    "expect(even_numbers_from(LOI0), [0])\n",
    "expect(even_numbers_from(LOI1), LOI1)\n",
    "expect(even_numbers_from([1,3,5]), [])\n",
    "expect(even_numbers_from([1,2,3,4,5,6]), [2,4,6])\n",
    "\n",
    "summary()\n",
    "```\n",
    "    \n",
    "</details>\n",
    "\n",
    "<details class=\"alert alert-info\" style=\"cursor:pointer;\"><summary style=\"display:list-item\">ℹ️ Sample full solution (For later.  Don't peek if you want to learn 🙂)</summary>\n",
    "    \n",
    "```python\n",
    "@typecheck\n",
    "def even_numbers_from(loi: List[int]) -> List[int]:\n",
    "    \"\"\"\n",
    "    Returns a list containing just the even numbers from the original list `loi`,\n",
    "    in the original order.\n",
    "    \"\"\"\n",
    "    # return [] # stub\n",
    "\n",
    "    # List of even numbers found so far\n",
    "    evens = []   # type: List[int]\n",
    "\n",
    "    for i in loi:\n",
    "        # evens = ...(i, evens)\n",
    "        if i % 2 == 0: # if i is even\n",
    "            evens = evens + [i]\n",
    "\n",
    "    return evens\n",
    "\n",
    "start_testing()\n",
    "\n",
    "expect(even_numbers_from(LOI_EMPTY), [])\n",
    "expect(even_numbers_from(LOI0), [0])\n",
    "expect(even_numbers_from(LOI1), LOI1)\n",
    "expect(even_numbers_from([1,3,5]), [])\n",
    "expect(even_numbers_from([1,2,3,4,5,6]), [2,4,6])\n",
    "\n",
    "summary()\n",
    "```\n",
    "    \n",
    "</details>\n",
    "\n",
    "---"
   ]
  },
  {
   "attachments": {},
   "cell_type": "markdown",
   "metadata": {},
   "source": [
    "<img style=\"float: right; width:10%\" src=\"https://lthub.ubc.ca/files/2020/07/iClicker-Cloud-Logo.png\">\n",
    "\n",
    "# iClicker question: Target a bug\n",
    "\n",
    "The following program was designed to calculate the product of all numbers in a list of integers... but it contains a few \"bugs\" (errors).  Tap on one of the bugs you find.  (Examples are hidden and can be considered correct.)"
   ]
  },
  {
   "cell_type": "code",
   "execution_count": null,
   "metadata": {},
   "outputs": [],
   "source": [
    "@typecheck \n",
    "def product(loi: List[int]) -> int: \n",
    "    \"\"\"\n",
    "    Return the product of all integers in loi \n",
    "    \"\"\" \n",
    "    # return 0 # stub \n",
    "\n",
    "    # Template based on List[str] \n",
    "    prod = 0 # type: int \n",
    "\n",
    "    for i in loi: \n",
    "        prod = prod * 1 \n",
    "\n",
    "    return prod "
   ]
  },
  {
   "cell_type": "markdown",
   "metadata": {},
   "source": [
    "<details class=\"alert alert-info\"><summary style=\"cursor:pointer; display:list-item\">ℹ️ Hint (for your review after class)</summary>\n",
    "    \n",
    "1. What data type is the template based on?\n",
    "2. What should we initialize the accumulator to, for the multiplication to work correctly?\n",
    "3. How should we update the accumulator with each iteration of the loop?\n",
    "\n",
    "</details>\n",
    "\n",
    "<details class=\"alert alert-info\" style=\"cursor:pointer;\"><summary style=\"display:list-item\">ℹ️ Corrected program (For later.  Don't peek if you want to learn 🙂)</summary>\n",
    "    \n",
    "```python\n",
    "@typecheck \n",
    "def product(loi: List[int]) -> int: \n",
    "    \"\"\"\n",
    "    Return the product of all integers in loi \n",
    "    \"\"\" \n",
    "    # return 0 # stub \n",
    "\n",
    "    # Template based on List[int] \n",
    "    prod = 1 # type: int \n",
    "\n",
    "    for i in loi: \n",
    "        prod = prod * i\n",
    "\n",
    "    return prod \n",
    "```\n",
    "    \n",
    "</details>\n",
    "\n",
    "---"
   ]
  },
  {
   "cell_type": "markdown",
   "metadata": {},
   "source": [
    "# Exercise 3: Fun with a Large-ish Information Set\n",
    "\n",
    "The data below represents the length of episodes from a TV show, in minutes. We have examples for only one episode of a show (Friends), a full season of a show (Game of Thrones), and a whole show (The Good Place).\n",
    "\n",
    "<div class=\"alert alert-info\">\n",
    "    \n",
    "### ℹ️ Things to notice\n",
    "\n",
    "- We've chosen to name our data type `EpisodeDurations` because it's more meaningful than just `List[float] # in range [0, ...]`\n",
    "- Likewise, we've given our loop variable a descriptive name, `duration`\n",
    "- Last class, I wasn't sure if a loop variable (e.g., `duration`) persists after the loop finishes.  [It turns out](https://docs.python.org/3/reference/compound_stmts.html#the-for-statement) it does: \"Names ... are not deleted when the loop is finished\"\n",
    "\n",
    "</div>\n"
   ]
  },
  {
   "cell_type": "code",
   "execution_count": null,
   "metadata": {},
   "outputs": [],
   "source": [
    "from typing import List\n",
    "\n",
    "EpisodeDurations = List[float] # in range [0, ...]\n",
    "# interp. the duration of episodes in minutes for some number of \n",
    "# episodes of a TV Show\n",
    "\n",
    "ED0 = []\n",
    "ED_FRIENDS_S01E01 = [22.8]\n",
    "ED_GAME_OF_THRONES_S01 = [61.62, 55.28, 57.23, 55.62, 54.27, 52.6, \n",
    "                          57.79, 58.13, 56.27, 52.62]\n",
    "ED_GOOD_PLACE = [\n",
    "    26.27, 21.50, 24.90, 22.55, 26.30, 26.35, 24.23, 25.23, 24.88, \n",
    "    23.78, 26.62, 21.53, 26.88, 42.68, 21.60, 23.92, 25.37, 24.65, \n",
    "    23.28, 23.72, 21.60, 24.78, 22.77, 23.47, 24.33, 21.60, 21.55, \n",
    "    21.60, 21.60, 21.60, 21.53, 21.55, 21.53, 21.53, 22.53, 21.53, \n",
    "    21.53, 21.53, 22.42, 21.40, 21.42, 21.43, 21.43, 21.42, 21.42, \n",
    "    21.40, 21.42, 21.42, 21.45, 21.43, 52.48\n",
    "]\n",
    "\n",
    "# template based on arbitrary-sized\n",
    "@typecheck\n",
    "def fn_for_ed(ed: EpisodeDurations) -> ...:\n",
    "    # description of the accumulator\n",
    "    acc = ...   # type: ...\n",
    "\n",
    "    for duration in ed:\n",
    "        acc = ...(duration, acc)\n",
    "\n",
    "    return ...(acc)\n"
   ]
  },
  {
   "cell_type": "markdown",
   "metadata": {},
   "source": [
    "Now, let's design a function that finds the average duration (in minutes) of all episodes in an `EpisodeDurations` list.\n",
    "\n",
    "We're going to end up using multiple accumulators in this design. Template functions in data definitions give you code that *may* be useful to you, but you might decide not to use some pieces, to add or duplicate pieces, or to insert code that isn't suggested by the template at all. \n",
    "\n",
    "For the list template, the accumulator is a suggestion: you may not need one, you may need one, or in cases where you're tracking multiple different evolving pieces of information through the loop, you may need multiple!"
   ]
  },
  {
   "cell_type": "code",
   "execution_count": null,
   "metadata": {},
   "outputs": [],
   "source": [
    "# We've completed signature, purpose, stub, and examples.\n",
    "# Let's continue from there!\n",
    "\n",
    "@typecheck\n",
    "def avg_episode_duration(ed: EpisodeDurations) -> float:\n",
    "    \"\"\"\n",
    "    Return the average duration (in minutes) of the episodes in ed.\n",
    "    \n",
    "    (The average duration of zero episodes is returned as 0.)\n",
    "    \"\"\"\n",
    "    return 0.0  #stub\n",
    "\n",
    "start_testing()\n",
    "\n",
    "expect(avg_episode_duration([]), 0.0)\n",
    "expect(avg_episode_duration([1, 1, 1, 1, 1]), 1)\n",
    "expect(avg_episode_duration([100.12, 12.1]), (100.12+12.1)/2)\n",
    "expect(avg_episode_duration(ED_GAME_OF_THRONES_S01), \n",
    "       (61.62+55.28+57.23+55.62+54.27+52.6+57.79+58.13+56.27+52.62)/10\n",
    "      )\n",
    "expect(avg_episode_duration(ED_FRIENDS_S01E01), 22.8)\n",
    "\n",
    "summary()\n"
   ]
  },
  {
   "cell_type": "code",
   "execution_count": null,
   "metadata": {},
   "outputs": [],
   "source": [
    "# Now, what we all came here for; the average episode length of The Good Place:\n",
    "\"The Good Place is the smartest, dumbest \" + str(avg_episode_duration(ED_GOOD_PLACE)) + \" minutes on television.\"\n"
   ]
  },
  {
   "cell_type": "markdown",
   "metadata": {},
   "source": [
    "<img style=\"float: right; width:10%\" src=\"https://lthub.ubc.ca/files/2020/07/iClicker-Cloud-Logo.png\">\n",
    "\n",
    "# iClicker question: Do you still have questions?\n",
    "\n",
    "Here are some common questions that came up in this week's pre-class assignment.  Which questions are you still unsure about?  Select as many as you like.\n",
    "<ol style=\"list-style-type:upper-alpha\">\n",
    "    <li>What are scenarios that you would use arbitrary-sized data but wouldn't need an accumulator?</li>\n",
    "    <li>When do we need more than one accumulator?</li>\n",
    "    <li>Can a function take in a list as a parameter without creating a data definition?</li>\n",
    "    <li>What are loops?  How do we use them?  And when do we need them?</li>\n",
    "    <li>Nah, I'm pretty sure I can answer these questions. 🙂</li>\n",
    "</ol>\n",
    "\n",
    "<details class=\"alert alert-info\"><summary style=\"cursor:pointer; display:list-item\">ℹ️ Hints (for your review after class)</summary>\n",
    "    \n",
    "A. We saw an example last class, when we learned about \"early returns\".  Generally, searching a list can be performed without an accumulator.  \n",
    "B. We just saw an example, when we needed to accumulate two pieces of data in order to compute an average.  Generally, think about how much data you need to store as you iterate through the items in the list.  \n",
    "C. Technically, we don't **need** to create a data definition to work with a list, but that wouldn't follow good programming practices, would it? 😉  \n",
    "D. Practice tracing through some example loops to study how they perform their tasks.  Do each by hand first, then check that you got it right by tracing it again in [PythonTutor](https://pythontutor.com/python-debugger.html#mode=edit).  If you're still having trouble, take advantage of the course's resources to get more help: tutorials, Piazza, office hours, \n",
    "\n",
    "</details>\n",
    "\n",
    "---"
   ]
  }
 ],
 "metadata": {
  "kernelspec": {
   "display_name": "Python 3 (ipykernel)",
   "language": "python",
   "name": "python3"
  },
  "language_info": {
   "codemirror_mode": {
    "name": "ipython",
    "version": 3
   },
   "file_extension": ".py",
   "mimetype": "text/x-python",
   "name": "python",
   "nbconvert_exporter": "python",
   "pygments_lexer": "ipython3",
   "version": "3.9.13"
  }
 },
 "nbformat": 4,
 "nbformat_minor": 2
}
