{
 "cells": [
  {
   "cell_type": "code",
   "execution_count": 1,
   "metadata": {},
   "outputs": [],
   "source": [
    "from cs103 import * # needed (once per notebook) to enable incredible cs103 powers!!"
   ]
  },
  {
   "cell_type": "markdown",
   "metadata": {},
   "source": [
    "***"
   ]
  },
  {
   "cell_type": "markdown",
   "metadata": {},
   "source": [
    "## Exam practice exercises - by module\n",
    "\n",
    "Highly recommended to self-assess and practice for exams: https://canvas.ubc.ca/courses/106343/pages/extra-exercises-written?module_item_id=5186721 (correct link)"
   ]
  },
  {
   "cell_type": "markdown",
   "metadata": {},
   "source": [
    "# Module 2: Learning Goals\n",
    "\n",
    "At the end of this module, you will be able to:\n",
    "\n",
    "- use the How to Design Functions (HtDF) recipe to design functions that operate on primitive data.\n",
    "- read a complete function design and identify its different elements.\n",
    "- evaluate the elements of a function design for clarity, simplicity and consistency with each other.\n",
    "- evaluate an entire design for how well it solves the given problem.\n",
    "- explain the intended purpose of the HtDF recipe's steps in a way that generalizes to other design problems."
   ]
  },
  {
   "cell_type": "markdown",
   "metadata": {},
   "source": [
    "Quick function check in: https://www.menti.com/rcsyu11e5q"
   ]
  },
  {
   "cell_type": "code",
   "execution_count": 2,
   "metadata": {},
   "outputs": [
    {
     "name": "stdout",
     "output_type": "stream",
     "text": [
      "\u001b[92m3 of 3 tests passed\u001b[0m\n"
     ]
    }
   ],
   "source": [
    "@typecheck \n",
    "def double(n: float) -> float:\n",
    "    \"\"\"\n",
    "    returns n doubled \n",
    "    \"\"\"\n",
    "    # return 0  # stub\n",
    "    # return ...(n)\n",
    "    return 2 * n\n",
    "\n",
    "start_testing() \n",
    "expect(double(0), 2 * 0) \n",
    "expect(double(-2.1), 2 * -2.1) \n",
    "expect(double(10.11), 2 * 10.11) \n",
    "summary() \n",
    "\n",
    "# At this point, you may have many questions!\n",
    "\n",
    "# 1) How many examples do I need? There is no fixed number, you need enough to prove\n",
    "# that the function works correctly\n",
    "\n",
    "# 2) Why do I need examples? The examples document that your function works and\n",
    "# does everything it was designed to do; they also provide examples on how to use it\n",
    "\n",
    "# 3) What's the purpose of the template? Using a template will become more interesting\n",
    "# when we start working with more elaborate data types; then, it will be useful guide\n",
    "# to write the function correctly. Right now, our functions are simple, and so is the\n",
    "# template: all it says is that the function will return something that is a result\n",
    "# of the argument(s) it received.\n",
    "\n",
    "# If you have more questions, ask! (Piazza, OH...)"
   ]
  },
  {
   "cell_type": "code",
   "execution_count": 3,
   "metadata": {},
   "outputs": [
    {
     "data": {
      "text/plain": [
       "16.2"
      ]
     },
     "execution_count": 3,
     "metadata": {},
     "output_type": "execute_result"
    }
   ],
   "source": [
    "double(8.1)"
   ]
  },
  {
   "cell_type": "markdown",
   "metadata": {},
   "source": [
    "# is_palindrome Quiz Problem\n",
    "\n",
    "**Problem:**: Design a function that takes a string and determines whether it is palindrome or not (a palindrome is a word or phrase that reads the same backwards and forwards - e.g., level)."
   ]
  },
  {
   "cell_type": "code",
   "execution_count": 4,
   "metadata": {},
   "outputs": [
    {
     "name": "stdout",
     "output_type": "stream",
     "text": [
      "\u001b[92m5 of 5 tests passed\u001b[0m\n"
     ]
    }
   ],
   "source": [
    "# Design is_palindrome here.\n",
    "# We already included the signature, TWO possible purposes, and a stub.\n",
    "# We still need: tests/examples, template comment, and body.\n",
    "# Hint: search what [::-1] do to a string\n",
    "\n",
    "@typecheck\n",
    "def is_palindrome(word: str) -> bool:\n",
    "    # Should the purpose be:\n",
    "    \"\"\"\n",
    "    return True if the word is a palindrome, and False otherwise\n",
    "    \"\"\"\n",
    "    # return True  #stub\n",
    "    # return ...(word)\n",
    "    if len(word) == 0:\n",
    "        return False\n",
    "    return word == word[::-1]\n",
    "    \n",
    "# Starting point for any set of tests/examples:\n",
    "start_testing()\n",
    "expect(is_palindrome(\"level\"), True)\n",
    "expect(is_palindrome(\"test\"), False)\n",
    "expect(is_palindrome(\"Level\"), False)\n",
    "expect(is_palindrome(\"\"), False)\n",
    "expect(is_palindrome(\"race car\"), False)\n",
    "summary()"
   ]
  },
  {
   "cell_type": "markdown",
   "metadata": {},
   "source": [
    "Now that `is_palindrome` has been designed and tested, we can use it!"
   ]
  },
  {
   "cell_type": "code",
   "execution_count": 5,
   "metadata": {},
   "outputs": [
    {
     "data": {
      "text/plain": [
       "True"
      ]
     },
     "execution_count": 5,
     "metadata": {},
     "output_type": "execute_result"
    }
   ],
   "source": [
    "# Write a call to is_palindrome here\n",
    "is_palindrome(\"tacocat\")"
   ]
  },
  {
   "cell_type": "markdown",
   "metadata": {},
   "source": [
    "*******"
   ]
  },
  {
   "cell_type": "markdown",
   "metadata": {},
   "source": [
    "# Multiply a number by 4\n",
    "\n",
    "**Problem**: Design a function that multiplies a number by 4."
   ]
  },
  {
   "cell_type": "code",
   "execution_count": 6,
   "metadata": {},
   "outputs": [
    {
     "name": "stdout",
     "output_type": "stream",
     "text": [
      "\u001b[92m3 of 3 tests passed\u001b[0m\n"
     ]
    }
   ],
   "source": [
    "# Define your function to a multiply number by 4\n",
    "@typecheck\n",
    "def multiply_by_4(n: float) -> float:\n",
    "    \"\"\"\n",
    "    Multiply n by 4\n",
    "    \"\"\"\n",
    "    # return -1   # stub  \n",
    "    # return ...(n)   # template\n",
    "    return n * 4\n",
    "\n",
    "start_testing()\n",
    "expect(multiply_by_4(0), 0 * 4)\n",
    "expect(multiply_by_4(2.1), 2.1 * 4)\n",
    "expect(multiply_by_4(-10.5), -10.5 * 4)\n",
    "summary()"
   ]
  },
  {
   "cell_type": "markdown",
   "metadata": {},
   "source": [
    "___"
   ]
  },
  {
   "cell_type": "markdown",
   "metadata": {},
   "source": [
    "## Questions from the quiz\n",
    "\n",
    "- can there be more than one type (bool, string, int) of parameter per function?\n",
    "\n",
    "- Can a function call be a parameter? \n",
    "\n",
    "- Does the parameter need to be separately defined outside the function?\n",
    "\n",
    "- What is the maximum number of parameters for input vs. output?\n",
    "\n",
    "- What to include in the signature vs. purpose?\n",
    "\n",
    "- What's the point of: HtDF recipe, (@typecheck), copying the template, stub.\n",
    "\n",
    "- How to select appropriate stubs and select correct templates"
   ]
  },
  {
   "cell_type": "code",
   "execution_count": 7,
   "metadata": {},
   "outputs": [
    {
     "data": {
      "text/plain": [
       "48"
      ]
     },
     "execution_count": 7,
     "metadata": {},
     "output_type": "execute_result"
    }
   ],
   "source": [
    "# Example of function call used as argument (fine, as long as the types match!)\n",
    "\n",
    "multiply_by_4(multiply_by_4(3))"
   ]
  },
  {
   "cell_type": "markdown",
   "metadata": {},
   "source": [
    "___"
   ]
  },
  {
   "cell_type": "markdown",
   "metadata": {},
   "source": [
    "# Discount\n",
    "\n",
    "**Problem:** A store gives 5% off the most expensive product and 10% off the second most expensive product. Design a program that calculates the final purchase price of two products."
   ]
  },
  {
   "cell_type": "code",
   "execution_count": 8,
   "metadata": {},
   "outputs": [
    {
     "name": "stdout",
     "output_type": "stream",
     "text": [
      "\u001b[92m3 of 3 tests passed\u001b[0m\n"
     ]
    }
   ],
   "source": [
    "@typecheck\n",
    "def discount(price1: float, price2: float) -> float:\n",
    "    \"\"\"\n",
    "    Give a discount of 10% on the smallest value and 5% on the biggest value.\n",
    "    Return the total price of the two itens with the discount.\n",
    "    \"\"\"\n",
    "    #return 100.0  #stub\n",
    "    #return ...(price1, price2)  #template\n",
    "    \n",
    "    if price1 > price2:\n",
    "        return price1*(0.95) + price2*(0.9)\n",
    "    else:\n",
    "        return price1*(0.9) + price2*(0.95)\n",
    "\n",
    "start_testing()\n",
    "expect(discount(100, 100), 185)\n",
    "expect(discount(80, 100), 167)\n",
    "expect(discount(82.8, 42.6), 117)\n",
    "summary()"
   ]
  },
  {
   "cell_type": "code",
   "execution_count": 9,
   "metadata": {},
   "outputs": [
    {
     "data": {
      "text/plain": [
       "116.25"
      ]
     },
     "execution_count": 9,
     "metadata": {},
     "output_type": "execute_result"
    }
   ],
   "source": [
    "p1 = 50\n",
    "p2 = 75\n",
    "\n",
    "discount(p1, p2)"
   ]
  },
  {
   "cell_type": "code",
   "execution_count": 10,
   "metadata": {},
   "outputs": [
    {
     "data": {
      "text/plain": [
       "28.0"
      ]
     },
     "execution_count": 10,
     "metadata": {},
     "output_type": "execute_result"
    }
   ],
   "source": [
    "p1 = 20\n",
    "p2 = 10\n",
    "\n",
    "discount(p2, p1)"
   ]
  },
  {
   "cell_type": "markdown",
   "metadata": {},
   "source": [
    "It would be very beneficial to trace this exercise. If you have difficulties tracing by hand, start by looking at how Python Tutor does it: https://pythontutor.com/visualize.html#mode=edit\n",
    "\n",
    "(Eventually you want to be able to do it on your own)\n",
    "\n",
    "**Warning:** Python Tutor does not know the CS103 library, so it can not use @typecheck, start_testing, summary, and expect."
   ]
  },
  {
   "cell_type": "markdown",
   "metadata": {},
   "source": [
    "___"
   ]
  },
  {
   "cell_type": "markdown",
   "metadata": {},
   "source": [
    "# CPSC 103 d-tective 😜\n",
    "\n",
    "**Problem:** Design a function that determines if a string starts with\n",
    "the letter *d*."
   ]
  },
  {
   "cell_type": "code",
   "execution_count": 11,
   "metadata": {},
   "outputs": [
    {
     "name": "stdout",
     "output_type": "stream",
     "text": [
      "\u001b[92m13 of 13 tests passed\u001b[0m\n"
     ]
    }
   ],
   "source": [
    "# We made the design decision that \"starts with the letter d\" meant \"lower- or\n",
    "# upper-case\", in which case our purpose would document that choice,\n",
    "# our examples/tests would illustrate and test it, and our code would\n",
    "# implement it.\n",
    "\n",
    "# Let's put our answer here!\n",
    "\n",
    "@typecheck\n",
    "def starts_with_d(word: str) -> bool:\n",
    "    \"\"\"\n",
    "    Determines if a string starts with the letter d, lowercase or uppercase.\n",
    "    Returns True if so and False otherwise.\n",
    "    \"\"\"\n",
    "#     return True # stub\n",
    "#     return ...(word) # template based on atomic non-distinct\n",
    "\n",
    "    # We have to check that the string is not empty before we try to access \n",
    "    # the first character of the string with word[0]\n",
    "    if word == \"\":\n",
    "        return False\n",
    "    else:\n",
    "        return word[0] == \"d\" or word[0] == \"D\"\n",
    "\n",
    "start_testing()\n",
    "\n",
    "expect(starts_with_d(\"\"), False)\n",
    "\n",
    "expect(starts_with_d(\"dinosaur\"), True)\n",
    "expect(starts_with_d(\"car\"), False)\n",
    "\n",
    "expect(starts_with_d(\"David\"), True)\n",
    "expect(starts_with_d(\"Jessica\"), False)\n",
    "\n",
    "expect(starts_with_d(\"d\"), True)\n",
    "expect(starts_with_d(\"i\"), False)\n",
    "\n",
    "expect(starts_with_d(\"D\"), True)\n",
    "expect(starts_with_d(\"C\"), False)\n",
    "\n",
    "expect(starts_with_d(\"hello world!\"), False)\n",
    "expect(starts_with_d(\"doughnuts are on sale\"), True)\n",
    "\n",
    "expect(starts_with_d(\"Hello World!\"), False)\n",
    "expect(starts_with_d(\"Doughnuts Are On Sale\"), True)\n",
    "\n",
    "summary()"
   ]
  }
 ],
 "metadata": {
  "kernelspec": {
   "display_name": "Python 3 (ipykernel)",
   "language": "python",
   "name": "python3"
  },
  "language_info": {
   "codemirror_mode": {
    "name": "ipython",
    "version": 3
   },
   "file_extension": ".py",
   "mimetype": "text/x-python",
   "name": "python",
   "nbconvert_exporter": "python",
   "pygments_lexer": "ipython3",
   "version": "3.10.8"
  }
 },
 "nbformat": 4,
 "nbformat_minor": 2
}
