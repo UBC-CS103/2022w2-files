{
 "cells": [
  {
   "cell_type": "code",
   "execution_count": null,
   "metadata": {},
   "outputs": [],
   "source": [
    "from cs103 import * # needed (once per notebook) to enable incredible cs103 powers!!"
   ]
  },
  {
   "cell_type": "markdown",
   "metadata": {},
   "source": [
    "# CPSC 103 - Systematic Program Design\n",
    "# Module 02 Day 1\n",
    "Rik Blok, with thanks to Prof. Giulia Toti\n",
    "\n",
    "---"
   ]
  },
  {
   "cell_type": "markdown",
   "metadata": {},
   "source": [
    "# Reminders\n",
    "- Wed: Module 1 (Intro): Code Review\n",
    "- Wed: Module 1 (Intro): Tutorial\n",
    "- Mon: Module 2 (HtDF): Worksheet\n",
    "- Mon: Module 3: Pre-Lecture Assignment\n",
    "\n",
    "See also the [course calendar](https://canvas.ubc.ca/calendar?include_contexts=course_106343).\n",
    "\n",
    "---"
   ]
  },
  {
   "cell_type": "markdown",
   "metadata": {},
   "source": [
    "# Exam practice exercises - by module\n",
    "After each module: self-assess and practice for exams at https://v.gd/a22COQ \n",
    "\n",
    "(Full link: https://canvas.ubc.ca/courses/106343/pages/extra-exercises-written)\n",
    "\n",
    "Designed to help you assess your exam preparation. For a more accurate assessment:\n",
    "- practice on paper, to better simulate exam conditions\n",
    "- practice without distractions and interruptions\n",
    "- time yourself\n",
    "- do not use any notes or other resources that would not be available during the real exam\n",
    "- only check the solution when you are done with all the exercises\n",
    "\n",
    "---"
   ]
  },
  {
   "cell_type": "markdown",
   "metadata": {},
   "source": [
    "# Module learning goals\n",
    "\n",
    "At the end of this module, you will be able to:\n",
    "\n",
    "- use the How to Design Functions (HtDF) recipe to design functions that operate on primitive data.\n",
    "- read a complete function design and identify its different elements.\n",
    "- evaluate the elements of a function design for clarity, simplicity, and consistency with each other.\n",
    "- evaluate an entire design for how well it solves the given problem.\n",
    "- explain the intended purpose of the HtDF recipe's steps in a way that generalizes to other design problems.\n",
    "\n",
    "---"
   ]
  },
  {
   "cell_type": "markdown",
   "metadata": {},
   "source": [
    "<img style=\"float: right; width:10%\" src=\"https://lthub.ubc.ca/files/2020/07/iClicker-Cloud-Logo.png\">\n",
    "\n",
    "# iClicker question\n",
    "You want a program that will display the appropriate response in these cases:\n",
    "- \"That is very warm\" if `temp` > 30,\n",
    "- \"That is warm\" if `temp` is in the range [20,30] (inclusive),\n",
    "- \"That is cool\", otherwise.\n",
    "\n",
    "Which of the following is correct?  \n",
    "<details><summary>▶ Hints:</summary>\n",
    "    \n",
    "- The programs are identical except for one word.\n",
    "- What does each produce if `temp = 31`?\n",
    "    \n",
    "</details>\n",
    "\n",
    "<div style=\"float: left; width: 45%\">\n",
    "\n",
    "A.\n",
    "```python\n",
    "out = \"That is \"\n",
    "if temp > 30:\n",
    "    out = out + \"very \"\n",
    "elif temp >= 20:\n",
    "    out = out + \"warm\"\n",
    "else:\n",
    "    out = out + \"cool\"\n",
    "out\n",
    "```\n",
    "    \n",
    "</div>\n",
    "<div style=\"float: right; width: 45%\">\n",
    "\n",
    "B.\n",
    "```python\n",
    "out = \"That is \"\n",
    "if temp > 30:\n",
    "    out = out + \"very \"\n",
    "if temp >= 20:\n",
    "    out = out + \"warm\"\n",
    "else:\n",
    "    out = out + \"cool\"\n",
    "out\n",
    "```\n",
    "\n",
    "</div>\n",
    "<div style=\"float: left; width: 45%\">\n",
    "C. Both\n",
    "</div>\n",
    "<div style=\"float: right; width: 45%\">\n",
    "D. Neither\n",
    "</div>"
   ]
  },
  {
   "cell_type": "code",
   "execution_count": null,
   "metadata": {},
   "outputs": [],
   "source": []
  },
  {
   "cell_type": "markdown",
   "metadata": {},
   "source": [
    "# About good programming\n",
    "\n",
    "> ...programming differs from good programming like crayon sketches in a diner from oil paintings in a museum.  \n",
    "> – [How to Design Programs, Second Edition](https://htdp.org/2022-8-7/Book/part_preface.html)\n",
    "\n",
    "<div style=\"float: left; width: 45%\">\n",
    "    <a title=\"Aaron Burden aaronburden, CC0, via Wikimedia Commons\" href=\"https://commons.wikimedia.org/wiki/File:Crayons_beside_child_coloring_(Unsplash).jpg\"><img alt=\"Crayons beside child coloring (Unsplash)\" src=\"https://upload.wikimedia.org/wikipedia/commons/thumb/5/50/Crayons_beside_child_coloring_%28Unsplash%29.jpg/512px-Crayons_beside_child_coloring_%28Unsplash%29.jpg\"></a>\n",
    "</div>\n",
    "<div style=\"float: right; width: 45%\">\n",
    "<a title=\"Leonardo da Vinci, Public domain, via Wikimedia Commons\" href=\"https://commons.wikimedia.org/wiki/File:Mona-lisa_1.jpg\"><img alt=\"Mona-lisa 1\" src=\"https://upload.wikimedia.org/wikipedia/commons/b/b4/Mona-lisa_1.jpg\"></a>\n",
    "</div>"
   ]
  },
  {
   "cell_type": "markdown",
   "metadata": {},
   "source": [
    "# After this course...\n",
    "\n",
    "<div style=\"float: left; width: 45%\">\n",
    "    <p>Maybe you won't be like him (yet!)...</p>\n",
    "    <a title=\"Leonardo da Vinci, Public domain, via Wikimedia Commons\" href=\"https://commons.wikimedia.org/wiki/File:Leonardo_self.jpg\"><img alt=\"Leonardo self\" src=\"https://upload.wikimedia.org/wikipedia/commons/thumb/b/ba/Leonardo_self.jpg/256px-Leonardo_self.jpg\"></a>\n",
    "</div>\n",
    "<div style=\"float: right; width: 45%\">\n",
    "    <p>...but you could be like them!</p>\n",
    "    <a title=\"David Shankbone, CC BY 3.0 &lt;https://creativecommons.org/licenses/by/3.0&gt;, via Wikimedia Commons\" href=\"https://commons.wikimedia.org/wiki/File:Jonas_Burgert_painting_admirers_at_Denver_Museum_of_Contemporary_Art.JPG\"><img alt=\"Jonas Burgert painting admirers at Denver Museum of Contemporary Art\" src=\"https://upload.wikimedia.org/wikipedia/commons/thumb/9/9c/Jonas_Burgert_painting_admirers_at_Denver_Museum_of_Contemporary_Art.JPG/512px-Jonas_Burgert_painting_admirers_at_Denver_Museum_of_Contemporary_Art.JPG\"></a>\n",
    "</div>"
   ]
  },
  {
   "cell_type": "markdown",
   "metadata": {},
   "source": [
    "# How to Design Functions (HtDF) recipe\n",
    "\n",
    "The HtDF recipe consists of the following steps:\n",
    "1. Write the stub, including signature and purpose\n",
    "2. Define examples\n",
    "3. Write the template\n",
    "4. Code the function body\n",
    "5. Test and debug until correct\n",
    "\n",
    "---"
   ]
  },
  {
   "cell_type": "markdown",
   "metadata": {},
   "source": [
    "# Step 1: Write the stub, including signature and purpose\n",
    "\n",
    "*Stub* - a temporary placeholder for some yet-to-be-developed code\n",
    "\n",
    "1a. Signature  \n",
    "1b. Purpose  \n",
    "1c. Stub return \n",
    "\n",
    "---"
   ]
  },
  {
   "cell_type": "markdown",
   "metadata": {},
   "source": [
    "# Step 1a: Signature\n",
    "\n",
    "Defines the **input type(s) and output type** for your function.  It is also when you give a **name** to your function and to the parameters.  Names should be **all lower case**, with underscore (`_`) separating words.\n",
    "\n",
    "Example: Design a program that returns the double of a given number.\n",
    "\n",
    "<details>\n",
    "\n",
    "```python\n",
    "@typecheck\n",
    "def double(n: float) -> float:\n",
    "```\n",
    "\n",
    "</details>"
   ]
  },
  {
   "cell_type": "code",
   "execution_count": null,
   "metadata": {},
   "outputs": [],
   "source": []
  },
  {
   "cell_type": "markdown",
   "metadata": {},
   "source": [
    "# Aside: @typecheck\n",
    "What does `@typecheck` do?  Let's find out!"
   ]
  },
  {
   "cell_type": "code",
   "execution_count": null,
   "metadata": {},
   "outputs": [],
   "source": [
    "help(typecheck)"
   ]
  },
  {
   "cell_type": "markdown",
   "metadata": {},
   "source": [
    "# Step 1b: Purpose\n",
    "\n",
    "The purpose statement describes what the function will return. It is written in triple quotes at the top of a function's body that documents the function.\n",
    "\n",
    "Example: Design a program that returns the double of a given number.\n",
    "\n",
    "<details>\n",
    "    \n",
    "```python\n",
    "@typecheck\n",
    "def double(n: float) -> float:\n",
    "    \"\"\"\n",
    "    Returns n doubled\n",
    "    \"\"\"\n",
    "```\n",
    "\n",
    "</details>"
   ]
  },
  {
   "cell_type": "code",
   "execution_count": null,
   "metadata": {},
   "outputs": [],
   "source": [
    "@typecheck\n",
    "def double(n: float) -> float:\n"
   ]
  },
  {
   "cell_type": "markdown",
   "metadata": {},
   "source": [
    "# Aside: Docstrings\n",
    "\n",
    "- Triple quotes denote a *multiline string*, a string that can contain linebreaks\n",
    "- Just a literal string.  Expression is evaluated but discarded\n",
    "- When placed immediately after a function definition, treated as documentation\n",
    "- Note that `help` (below) would not display purpose if I had written it as a comment instead (`# ...`)\n",
    "\n",
    "Example:"
   ]
  },
  {
   "cell_type": "code",
   "execution_count": null,
   "metadata": {},
   "outputs": [],
   "source": [
    "# display documentation for function double\n",
    "help(double)"
   ]
  },
  {
   "cell_type": "markdown",
   "metadata": {},
   "source": [
    "# Step 1c: Stub return\n",
    "\n",
    "The stub must return a value of the right type. It doesn't need to be correct, any value from the right type will do.\n",
    "\n",
    "Example: Design a program that returns the double of a given number.\n",
    "\n",
    "<details>\n",
    "    \n",
    "```python\n",
    "...\n",
    "    \"\"\"\n",
    "    Returns n doubled\n",
    "    \"\"\"\n",
    "    return 0 # stub\n",
    "```\n",
    "\n",
    "</details>"
   ]
  },
  {
   "cell_type": "code",
   "execution_count": null,
   "metadata": {},
   "outputs": [],
   "source": [
    "@typecheck\n",
    "def double(n: float) -> float:\n",
    "    \"\"\"\n",
    "    Returns n doubled\n",
    "    \"\"\"\n"
   ]
  },
  {
   "cell_type": "markdown",
   "metadata": {},
   "source": [
    "# Step 2: Define examples\n",
    "\n",
    "Write at least one example of a call to the function and the result that the function is expected to return.\n",
    "\n",
    "<details>\n",
    "    \n",
    "```python\n",
    "...\n",
    "    return 0 # stub\n",
    "\n",
    "start_testing()\n",
    "expect(double(0), 2 * 0)\n",
    "expect(double(-2.1), 2 * -2.1)\n",
    "expect(double(10.11), 2 * 10.11)\n",
    "summary()\n",
    "```\n",
    "\n",
    "</details>"
   ]
  },
  {
   "cell_type": "code",
   "execution_count": null,
   "metadata": {},
   "outputs": [],
   "source": [
    "@typecheck\n",
    "def double(n: float) -> float:\n",
    "    \"\"\"\n",
    "    Returns n doubled\n",
    "    \"\"\"\n",
    "    return 0 # stub\n"
   ]
  },
  {
   "cell_type": "markdown",
   "metadata": {},
   "source": [
    "# Step 3: Write the template\n",
    "\n",
    "Comment out the body of the stub and copy the body of template from the data definition to the function design. In case there is no data definition, just copy all parameters.\n",
    "\n",
    "<details>\n",
    "    \n",
    "```python\n",
    "...\n",
    "    # return 0 # stub\n",
    "    return ...(n) # template\n",
    "\n",
    "start_testing()\n",
    "...\n",
    "```\n",
    "\n",
    "</details>"
   ]
  },
  {
   "cell_type": "code",
   "execution_count": null,
   "metadata": {},
   "outputs": [],
   "source": [
    "@typecheck\n",
    "def double(n: float) -> float:\n",
    "    \"\"\"\n",
    "    Returns n doubled\n",
    "    \"\"\"\n",
    "    return 0 # stub\n",
    "\n",
    "start_testing()\n",
    "expect(double(0), 2 * 0)\n",
    "expect(double(-2.1), 2 * -2.1)\n",
    "expect(double(10.11), 2 * 10.11)\n",
    "summary()"
   ]
  },
  {
   "cell_type": "markdown",
   "metadata": {},
   "source": [
    "# Aside: Ellipsis (`...`)\n",
    "\n",
    "Ellipsis (`...`) can be used as a placeholder for future code.  Skipped over when run.  Useful for testing.\n",
    "\n",
    "Example:"
   ]
  },
  {
   "cell_type": "code",
   "execution_count": null,
   "metadata": {},
   "outputs": [],
   "source": [
    "def future_function_1():\n",
    "    # Nonfunctional but will run\n",
    "    ...\n",
    "\n",
    "def future_function_2():\n",
    "    # Will throw error\n",
    "    "
   ]
  },
  {
   "cell_type": "markdown",
   "metadata": {},
   "source": [
    "# Step 4: Code the function body\n",
    "\n",
    "Complete the function body by filling in the template, note that you have a lot of information written already.  Remember to comment the template.\n",
    "\n",
    "<details>\n",
    "    \n",
    "```python\n",
    "...\n",
    "    # return ...(n) # template\n",
    "    return n * 2\n",
    "\n",
    "...\n",
    "```\n",
    "\n",
    "</details>"
   ]
  },
  {
   "cell_type": "code",
   "execution_count": null,
   "metadata": {},
   "outputs": [],
   "source": [
    "@typecheck\n",
    "def double(n: float) -> float:\n",
    "    \"\"\"\n",
    "    Returns n doubled\n",
    "    \"\"\"\n",
    "    # return 0 # stub\n",
    "    return ...(n) # template\n",
    "\n",
    "start_testing()\n",
    "expect(double(0), 2 * 0)\n",
    "expect(double(-2.1), 2 * -2.1)\n",
    "expect(double(10.11), 2 * 10.11)\n",
    "summary()"
   ]
  },
  {
   "cell_type": "markdown",
   "metadata": {},
   "source": [
    "# Step 5: Test and debug until correct\n",
    "\n",
    "You should run your functions until all tests pass.\n",
    "\n",
    "<details>\n",
    "\n",
    "For example, what if we had accidentally written `n ** 2` instead of `n * 2`?\n",
    "\n",
    "</details>"
   ]
  },
  {
   "cell_type": "code",
   "execution_count": null,
   "metadata": {},
   "outputs": [],
   "source": [
    "@typecheck\n",
    "def double(n: float) -> float:\n",
    "    \"\"\"\n",
    "    Returns n doubled\n",
    "    \"\"\"\n",
    "    # return 0 # stub\n",
    "    # return ...(n) # template\n",
    "    return n ** 2\n",
    "\n",
    "start_testing()\n",
    "expect(double(0), 2 * 0)\n",
    "expect(double(-2.1), 2 * -2.1)\n",
    "expect(double(10.11), 2 * 10.11)\n",
    "summary()"
   ]
  },
  {
   "cell_type": "code",
   "execution_count": null,
   "metadata": {},
   "outputs": [],
   "source": [
    "# Now that your function is fully designed and tested, \n",
    "# you can use it\n",
    "double(4.6)"
   ]
  },
  {
   "cell_type": "markdown",
   "metadata": {},
   "source": [
    "# Questions from the pre-lecture assignment\n",
    "\n",
    "1. What exactly is the difference between the stub and the template? What do you put in a stub return vs a template return?\n",
    "\n",
    "<details><summary>▶ Answer:</summary>\n",
    "\n",
    "- **Stub**: Placeholder.  Completes the function to make it work, with intention that we'll fix it later\n",
    "- **Template**: Helps describe what we want the function to do, how the parameters are involved, and other things that depend on the data we're using.  Benefits will become clearer when we move beyond primitive data types\n",
    "</details>\n",
    "\n",
    "2. What is the benefit of using the HtDF recipe as opposed to just defining functions the way we learned to in Module 1? Do programmers use this recipe while working/will we find use for the recipe outside of this class? \n",
    "\n",
    "<details><summary>▶ Answer:</summary>\n",
    "    \n",
    "- Step-by-step guide for how to write functions\n",
    "- Guarantees you write a function that works properly\n",
    "- Resulting code is readable.  Compare:\n",
    "```python\n",
    "def double(n):\n",
    "    return n * 2\n",
    "```\n",
    "    \n",
    "</details>\n",
    "\n",
    "---"
   ]
  },
  {
   "cell_type": "markdown",
   "metadata": {},
   "source": [
    "# is_palindrome, similar to Pre-Lecture Assignment\n",
    "\n",
    "**Problem:** Design a function that takes a string and determines whether it is a palindrome or not (a palindrome is a word or phrase that reads the same backwards and forwards - e.g., \"level\").\n",
    "\n",
    "The first step of our HtDF recipe have already been completed below (with two possible purposes included):\n",
    "1. Done: Write the stub, including signature and purpose\n",
    "2. TODO: Define examples\n",
    "3. TODO: Write the template\n",
    "4. TODO: Code the function body\n",
    "5. TODO: Test and debug until correct\n",
    "\n",
    "<img style=\"float: right; width:10%\" src=\"https://lthub.ubc.ca/files/2020/07/iClicker-Cloud-Logo.png\">\n",
    "\n",
    "### Step 1: Write the stub\n",
    "\n",
    "#### iClicker questions \n",
    "\n",
    "1. Where is the function signature?  \n",
    "   **(A)** Line 3, &nbsp; &nbsp; **(B)** Line 4, &nbsp; &nbsp; **(C)** Lines 6-12, &nbsp; &nbsp; **(D)** Line 13, &nbsp; &nbsp; **(E)** Lines 16-18\n",
    "\n",
    "<details><summary>▶ Next</summary>\n",
    "\n",
    "2. What should the function purpose be?  \n",
    "   **(A)** Lines 6-8, &nbsp; &nbsp; **(B)** Lines 10-12 &nbsp; &nbsp; **(C)** Something else\n",
    "\n",
    "<details><summary>▶ Next</summary>\n",
    "\n",
    "### Step 2: Define examples\n",
    "\n",
    "Consider:\n",
    "- Typical cases (i.e., some that we expect to be true and false)\n",
    "- Special cases (e.g., case-sensitive?) \n",
    "- Edge cases (limiting conditions, e.g., single character?  Empty string?)\n",
    "\n",
    "<details><summary>▶ Next</summary>\n",
    "\n",
    "### Step 3: Write the template\n",
    "\n",
    "- Demonstrates how the data will be used\n",
    "\n",
    "<details><summary>▶ Next</summary>\n",
    "\n",
    "### Step 4: Code the function body\n",
    "\n",
    "- Hint: Notice what the slice `[::-1]` does to a string.  (Try it! 🙂)\n",
    "- Compare returning a boolean to using `if else`\n",
    "\n",
    "<details><summary>▶ Next</summary>\n",
    "\n",
    "### Step 5: Test and debug until correct\n",
    "\n",
    "</details>\n",
    "</details>\n",
    "</details>\n",
    "</details>\n",
    "</details>"
   ]
  },
  {
   "cell_type": "code",
   "execution_count": null,
   "metadata": {},
   "outputs": [],
   "source": [
    "# Design is_palindrome function here\n",
    "\n",
    "@typecheck\n",
    "def is_palindrome(word: str) -> bool:\n",
    "    # Should the purpose be...?\n",
    "    \"\"\"\n",
    "    return True if the word is a palindrome, and False otherwise\n",
    "    \"\"\"\n",
    "    # Or...?\n",
    "    \"\"\"\n",
    "    return True if the word meets our requirements\n",
    "    \"\"\"\n",
    "    return True  # stub\n",
    "    \n",
    "# Starting point for any set of tests/examples:\n",
    "start_testing()\n",
    "expect(..., ...)\n",
    "summary()"
   ]
  },
  {
   "cell_type": "markdown",
   "metadata": {},
   "source": [
    "Now that `is_palindrome` has been designed and tested, we can use it!"
   ]
  },
  {
   "cell_type": "code",
   "execution_count": null,
   "metadata": {},
   "outputs": [],
   "source": [
    "# Write a call to is_palindrome here\n"
   ]
  },
  {
   "cell_type": "markdown",
   "metadata": {},
   "source": [
    "<img style=\"float: right; width:10%\" src=\"https://lthub.ubc.ca/files/2020/07/iClicker-Cloud-Logo.png\">\n",
    "\n",
    "# iClicker check-in\n",
    "How are you doing?  Any trouble keeping up?\n",
    "\n",
    "<!-- formatting: add two spaces at end of line to force linebreak -->\n",
    "  A. 💪 Easy-peasy... you can go faster  \n",
    "  B. 👍 Yup, I got this  \n",
    "  C. 😕 I might have missed a bit here or there  \n",
    "  D. 😟 Hmm, something's not working right  \n",
    "  E. 😵 I have no idea what's going on  \n",
    "\n",
    "---"
   ]
  }
 ],
 "metadata": {
  "kernelspec": {
   "display_name": "Python 3 (ipykernel)",
   "language": "python",
   "name": "python3"
  },
  "language_info": {
   "codemirror_mode": {
    "name": "ipython",
    "version": 3
   },
   "file_extension": ".py",
   "mimetype": "text/x-python",
   "name": "python",
   "nbconvert_exporter": "python",
   "pygments_lexer": "ipython3",
   "version": "3.9.13"
  }
 },
 "nbformat": 4,
 "nbformat_minor": 2
}
