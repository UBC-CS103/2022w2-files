{
 "cells": [
  {
   "cell_type": "code",
   "execution_count": null,
   "metadata": {},
   "outputs": [],
   "source": [
    "from cs103 import * # needed (once per notebook) to enable incredible cs103 powers!!"
   ]
  },
  {
   "cell_type": "markdown",
   "metadata": {},
   "source": [
    "# CPSC 103 - Systematic Program Design\n",
    "# Module 02 Day 2\n",
    "Rik Blok, with thanks to Prof. Giulia Toti\n",
    "\n",
    "---"
   ]
  },
  {
   "cell_type": "markdown",
   "metadata": {},
   "source": [
    "# Reminders\n",
    "- Mon: Module 2 (HtDF): Worksheet\n",
    "- Mon: Module 3: Pre-Lecture Assignment\n",
    "- Wed: Module 2 (HtDF): Code Review\n",
    "- Wed: Module 2 (HtDF): Tutorial\n",
    "\n",
    "See also the [course calendar](https://canvas.ubc.ca/calendar?include_contexts=course_106343) (**[v.gd/6KJtbx](https://v.gd/6KJtbx)**).\n",
    "\n",
    "---"
   ]
  },
  {
   "cell_type": "markdown",
   "metadata": {},
   "source": [
    "# Project Team Formation\n",
    "\n",
    "As you all know, there is a term project in CPSC 103. You can either complete the term project individually or in a team of two.\n",
    "\n",
    "If you are interested in finding a partner for your project, we have enabled the [Search for Teammates](https://piazza.com/class/lcffuogkn352gx/post/5) (**[v.gd/ht1gxD](https://v.gd/ht1gxD)**) Piazza post (@5). You must work with a partner from your own lecture section (but not necessarily from your own tutorial section).\n",
    "\n",
    "See the [Team Registration](https://canvas.ubc.ca/courses/106343/assignments/1425112?module_item_id=5186710) (**[v.gd/B942lN](https://v.gd/B942lN)**) assignment on Canvas for more details.\n",
    "\n",
    "---"
   ]
  },
  {
   "cell_type": "markdown",
   "metadata": {},
   "source": [
    "# Module learning goals\n",
    "\n",
    "At the end of this module, you will be able to:\n",
    "\n",
    "- use the How to Design Functions (HtDF) recipe to design functions that operate on primitive data.\n",
    "- read a complete function design and identify its different elements.\n",
    "- evaluate the elements of a function design for clarity, simplicity, and consistency with each other.\n",
    "- evaluate an entire design for how well it solves the given problem.\n",
    "- explain the intended purpose of the HtDF recipe's steps in a way that generalizes to other design problems.\n",
    "\n",
    "---"
   ]
  },
  {
   "cell_type": "markdown",
   "metadata": {},
   "source": [
    "<img style=\"float: right; width:10%\" src=\"https://lthub.ubc.ca/files/2020/07/iClicker-Cloud-Logo.png\">\n",
    "\n",
    "# iClicker question\n",
    "Imagine you want to write a function to compute how many 3.8 Litre cans of paint are needed to paint a wall.  Which of the following are good parameters for this function?  Select **ALL** that apply.\n",
    "\n",
    "<!-- formatting: add two spaces at end of line to force linebreak -->\n",
    "\n",
    "A. Height of the wall  \n",
    "B. Width of the wall  \n",
    "C. Thickness of the wall  \n",
    "D. Size of a can  \n",
    "E. Number of cans needed  \n",
    "\n",
    "<details>\n",
    "\n",
    "- The size of the can is already given in the problem.\n",
    "- The function should return the number of cans needed.\n",
    "\n",
    "</details>\n",
    "\n",
    "---"
   ]
  },
  {
   "cell_type": "markdown",
   "metadata": {},
   "source": [
    "# How to Design Functions (HtDF) recipe\n",
    "\n",
    "The HtDF recipe consists of the following steps:\n",
    "1. Write the stub, including signature and purpose\n",
    "2. Define examples\n",
    "3. Write the template\n",
    "4. Code the function body\n",
    "5. Test and debug until correct\n",
    "\n",
    "Remember to run and check your program after each step. (Except after the template: we can expect to get an error then.)  Don't let errors accumulate!\n",
    "\n",
    "---"
   ]
  },
  {
   "cell_type": "markdown",
   "metadata": {},
   "source": [
    "# Continuing...\n",
    "# is_palindrome, similar to Pre-Lecture Assignment\n",
    "\n",
    "**Problem:** Design a function that takes a string and determines whether it is a palindrome or not (a palindrome is a word or phrase that reads the same backwards and forwards - e.g., \"level\").\n",
    "\n",
    "The first step of our HtDF recipe have already been completed below (with two possible purposes included):\n",
    "1. Done: Write the stub, including signature and purpose\n",
    "2. Done: Define examples\n",
    "3. Done: Write the template\n",
    "4. Done: Code the function body\n",
    "5. TODO: Test and debug until correct\n",
    "\n",
    "### Step 1: Write the stub\n",
    "### Step 2: Define examples\n",
    "### Step 3: Write the template\n",
    "### Step 4: Code the function body\n",
    "- Hint: Notice what the slice `[::-1]` does to a string.  (Try it! 🙂)\n",
    "- Compare returning a boolean to using `if else`\n",
    "- Use `string.lower()` and `string.upper()` to convert case\n",
    "\n",
    "### Step 5: Test and debug until correct"
   ]
  },
  {
   "cell_type": "code",
   "execution_count": null,
   "metadata": {},
   "outputs": [],
   "source": [
    "# Design is_palindrome function here\n",
    "\n",
    "@typecheck\n",
    "def is_palindrome(word: str) -> bool:\n",
    "    \"\"\"\n",
    "    return True if the word is a palindrome, and False otherwise\n",
    "    \"\"\"\n",
    "    # return True  # stub\n",
    "    # return ...(word) # template\n",
    "    if word == word[::-1]:\n",
    "        return True\n",
    "    else:\n",
    "        return False\n",
    "    \n",
    "# Starting point for any set of tests/examples:\n",
    "start_testing()\n",
    "expect(is_palindrome(\"racecar\"), True)\n",
    "expect(is_palindrome(\"Racecar\"), True) # neglect case\n",
    "expect(is_palindrome(\"motor\"), False)\n",
    "expect(is_palindrome(\"a\"), True)\n",
    "expect(is_palindrome(\"Hi mom!\"), False)\n",
    "expect(is_palindrome(\"race car\"), False)\n",
    "expect(is_palindrome(\"!level!\"), True)\n",
    "expect(is_palindrome(\"\"), False)\n",
    "\n",
    "summary()"
   ]
  },
  {
   "cell_type": "markdown",
   "metadata": {},
   "source": [
    "Now that `is_palindrome` has been designed and tested, we can use it!"
   ]
  },
  {
   "cell_type": "code",
   "execution_count": null,
   "metadata": {},
   "outputs": [],
   "source": [
    "# Write a call to is_palindrome here\n",
    "\n"
   ]
  },
  {
   "cell_type": "markdown",
   "metadata": {},
   "source": [
    "# Multiply a number by 4\n",
    "\n",
    "**Problem**: Design a function that multiplies a number by 4.\n",
    "\n",
    "<details><summary>▶ Sample solution</summary>\n",
    "    \n",
    "```python\n",
    "@typecheck\n",
    "def times_4(n: float) -> float:\n",
    "    \"\"\"\n",
    "    returns n multiplied by 4\n",
    "    \"\"\"\n",
    "    # return -1  # stub\n",
    "    # return ... (n)   # template\n",
    "    return 4 * n\n",
    "\n",
    "start_testing()\n",
    "expect(times_4(0), 4 * 0)\n",
    "expect(times_4(2.6), 4 * 2.6)\n",
    "expect(times_4(-0.34), 4 * -0.34)\n",
    "summary()\n",
    "```\n",
    "    \n",
    "</details>"
   ]
  },
  {
   "cell_type": "code",
   "execution_count": null,
   "metadata": {},
   "outputs": [],
   "source": [
    "# Design your function here\n",
    "\n"
   ]
  },
  {
   "cell_type": "markdown",
   "metadata": {},
   "source": [
    "# Aside: Testing outside of CPSC 103\n",
    "\n",
    "`expect` is provided by `cs103` library and you're expected 😉 to use it in this course.  \n",
    "\n",
    "To test your own Python code outside of this course, check out the `assert` keyword:"
   ]
  },
  {
   "cell_type": "code",
   "execution_count": null,
   "metadata": {},
   "outputs": [],
   "source": [
    "assert times_4(1) == 3"
   ]
  },
  {
   "cell_type": "markdown",
   "metadata": {},
   "source": [
    "# Python: Global vs local variables\n",
    "Variables are defined when they're first assigned.  Two types of variables:\n",
    "- **Global** - defined outside of any function.  Can be accessed anywhere after definition: in functions called later, or outside of functions\n",
    "- **Local** - defined within a function.  Can only be accessed within that function.  Lost when program leaves the function\n",
    "\n",
    "\n",
    "\n",
    "- To make the code easier to understand **avoid using global variables in functions**\n",
    "- Maintain the \"boundaries\" of your functions.  The **only** data going into a function is through its parameters, and the only data coming out comes from the return statement\n",
    "- Need to use a global variable in a function?  Pass it in as a parameter!\n",
    "- For clarity, use different names for global variables and function arguments\n",
    "\n",
    "<details><summary>▶ Advanced (optional) material</summary>\n",
    "\n",
    "- In Python, when a local variable and a global variable have the same name, the local variable takes precedence\n",
    "    \n",
    "</details>\n"
   ]
  },
  {
   "cell_type": "markdown",
   "metadata": {},
   "source": [
    "# 🚫 Example, using a global variable in a function (bad!)"
   ]
  },
  {
   "cell_type": "code",
   "execution_count": null,
   "metadata": {},
   "outputs": [],
   "source": [
    "def step(a: float) -> float:\n",
    "    return a + step_size\n",
    "\n",
    "start_testing()\n",
    "\n",
    "step_size = 1\n",
    "expect(step(5), 6)\n",
    "# the next statement could be much more complicated, \n",
    "# hiding the change to this global variable!\n",
    "step_size = -1 \n",
    "# breaks functional programming paradigm.  \n",
    "# Function output not reliable, depends on more than just inputs\n",
    "expect(step(5), 6)\n",
    "\n",
    "summary()"
   ]
  },
  {
   "cell_type": "markdown",
   "metadata": {},
   "source": [
    "# ✅ Same example, let's fix it to pass global variable as a parameter (good!)"
   ]
  },
  {
   "cell_type": "code",
   "execution_count": null,
   "metadata": {},
   "outputs": [],
   "source": [
    "def step(a: float) -> float:\n",
    "    return a + step_size\n",
    "\n",
    "start_testing()\n",
    "\n",
    "step_size = 1\n",
    "expect(step(5), 6)\n",
    "step_size = -1 \n",
    "expect(step(5), 6)\n",
    "\n",
    "summary()"
   ]
  },
  {
   "cell_type": "markdown",
   "metadata": {},
   "source": [
    "<img style=\"float: right; width:10%\" src=\"https://lthub.ubc.ca/files/2020/07/iClicker-Cloud-Logo.png\">\n",
    "\n",
    "# iClicker question\n",
    "Why is it considered bad style to use global variables in functions?  Select **ALL** that apply.\n",
    "\n",
    "Global variables can...\n",
    "\n",
    "A. make it difficult to understand the dependencies between different parts of a program. This can make it hard to change code  \n",
    "B. cause functions to be affected by external factors, other than their inputs  \n",
    "C. make it difficult to test a program, as they can lead to unexpected interactions between different parts of the code  "
   ]
  },
  {
   "cell_type": "markdown",
   "metadata": {},
   "source": [
    "# Function arguments\n",
    "\n",
    "- Function calls need the right number of arguments, of the right type, in the right order.\n",
    "\n",
    "<details><summary>▶ Advanced (optional) material</summary>\n",
    "\n",
    "- In Python, you may alternatively use \"keyword arguments\" of the form `key = value`.  Then the order of the arguments doesn't matter\n",
    "    \n",
    "</details>"
   ]
  },
  {
   "cell_type": "markdown",
   "metadata": {},
   "source": [
    "<img style=\"float: right; width:10%\" src=\"https://lthub.ubc.ca/files/2020/07/iClicker-Cloud-Logo.png\">\n",
    "\n",
    "# iClicker question\n",
    "What is the output of the program to the right?\n",
    "\n",
    "<div style=\"float: right; width: 75%\">\n",
    "\n",
    "```python\n",
    "@typecheck\n",
    "def left_to_right(left:str, right:str)->str:\n",
    "    return left + \" to \" + right\n",
    "\n",
    "left = \"home\"\n",
    "right = \"class\"\n",
    "left_to_right(right, left)\n",
    "```\n",
    "\n",
    "</div>\n",
    "\n",
    "<!-- formatting: add two spaces at end of line to force linebreak -->\n",
    "\n",
    "A. 'home to class'  \n",
    "B. 'home to home'  \n",
    "C. 'class to home'  \n",
    "D. 'class to class'  \n",
    "E. Something else  \n",
    "\n",
    "<details><summary>▶ Hints</summary>\n",
    "    \n",
    "- Notice the order of the arguments in the function call\n",
    "- Let's try it in [pythontutor.com](https://pythontutor.com)\n",
    "- Would be much clearer to use different names for the global and local variables\n",
    "    \n",
    "</details>"
   ]
  },
  {
   "cell_type": "markdown",
   "metadata": {},
   "source": [
    "# Discount\n",
    "\n",
    "**Problem:** A store gives 5% off the most expensive product and 10% off the second most expensive product. Design a program that calculates the final purchase price of two products."
   ]
  },
  {
   "cell_type": "code",
   "execution_count": null,
   "metadata": {},
   "outputs": [],
   "source": [
    "@typecheck\n",
    "def discount(price1: float, price2: float) -> float:\n",
    "    \"\"\"\n",
    "    Give a discount of 10% on the smallest value and 5% on the biggest value.\n",
    "    Return the total price of the two items with the discount.\n",
    "    \"\"\"\n",
    "    #return 100.0  #stub\n",
    "    #return ...(price1, price2)  #template\n",
    "    \n",
    "    if price1 > price2:\n",
    "        return price1*(0.95) + price2*(0.9)\n",
    "    else:\n",
    "        return price1*(0.9) + price2*(0.95)\n",
    "\n",
    "start_testing()\n",
    "expect(discount(100, 100), 95 + 90)\n",
    "expect(discount(80, 100), 0.90*80 + 0.95*100)\n",
    "expect(discount(82.8, 42.6), 0.95*82.8 + 0.90*42.6)\n",
    "summary()"
   ]
  },
  {
   "cell_type": "code",
   "execution_count": null,
   "metadata": {},
   "outputs": [],
   "source": [
    "p1 = 50\n",
    "p2 = 75\n",
    "\n",
    "discount(p1, p2)"
   ]
  },
  {
   "cell_type": "markdown",
   "metadata": {},
   "source": [
    "<img style=\"float: right; width:10%\" src=\"https://lthub.ubc.ca/files/2020/07/iClicker-Cloud-Logo.png\">\n",
    "\n",
    "# iClicker question\n",
    "In the function `discount` defined above, which parameter receives the value 10 when the code to the right is run?\n",
    "\n",
    "<div style=\"float: right; width: 50%\">\n",
    "\n",
    "```python\n",
    "p1 = 20\n",
    "p2 = 10\n",
    "\n",
    "discount(p2, p1)\n",
    "```\n",
    "\n",
    "</div>\n",
    "\n",
    "<!-- formatting: add two spaces at end of line to force linebreak -->\n",
    "\n",
    "A. `p1`  \n",
    "B. `p2`  \n",
    "C. `price1`  \n",
    "D. `price2`  \n",
    "E. Two of the above  \n",
    "\n",
    "<details><summary>▶ Hints</summary>\n",
    "    \n",
    "- What are the function's **parameters**?\n",
    "- Remember, the order of the parameters matters\n",
    "- Trace the code by hand or (for convenience only!) with [pythontutor.com](https://pythontutor.com)\n",
    "\n",
    "<details><summary>▶ Answer</summary>\n",
    "    \n",
    "C. The global variable `p2` is assigned 10, which is then passed in as the first argument to `discount`, so it is assigned to the first parameter, `price1`.\n",
    "    \n",
    "</details>\n",
    "</details>"
   ]
  },
  {
   "cell_type": "code",
   "execution_count": null,
   "metadata": {},
   "outputs": [],
   "source": [
    "p1 = 20\n",
    "p2 = 10\n",
    "\n",
    "discount(p2, p1)"
   ]
  },
  {
   "cell_type": "markdown",
   "metadata": {},
   "source": [
    "<img style=\"float: right; width:10%\" src=\"https://lthub.ubc.ca/files/2020/07/iClicker-Cloud-Logo.png\">\n",
    "\n",
    "# iClicker question\n",
    "The program on the right calculates the final value of a product after adding a 12% tax. Find the design\n",
    "errors of this program.  Select **ALL** that apply.\n",
    "\n",
    "<div style=\"float: right; width: 75%\">\n",
    "\n",
    "```python\n",
    "@typecheck\n",
    "def AddTax(value: float) -> float:\n",
    "    \"\"\"\n",
    "    returns the final price after adding a 12% tax on value\n",
    "    \"\"\"\n",
    "    return 0 # stub\n",
    "    #return value # template\n",
    "    return value*0.12 + value\n",
    "    \n",
    "start_testing()\n",
    "expect(AddTax(10), 11.2)\n",
    "expect(AddTax(12), 13.44)\n",
    "expect(AddTax(500), 560)\n",
    "summary()\n",
    "```\n",
    "\n",
    "</div>\n",
    "\n",
    "<!-- formatting: add two spaces at end of line to force linebreak -->\n",
    "\n",
    "A. Signature  \n",
    "B. Purpose  \n",
    "C. Stub return  \n",
    "D. Examples  \n",
    "E. Template  \n",
    "\n",
    "<details><summary>▶ Hints</summary>\n",
    "    \n",
    "Look closely at:\n",
    "- The function name\n",
    "- The stub return\n",
    "- The template\n",
    "    \n",
    "</details>"
   ]
  },
  {
   "cell_type": "markdown",
   "metadata": {},
   "source": [
    "# CPSC 103 d-tective 😜\n",
    "\n",
    "**Problem:** Design a function that determines if a string starts with\n",
    "the letter *d*.\n",
    "\n",
    "<details><summary>▶ Sample solution</summary>\n",
    "    \n",
    "```python\n",
    "# We made the design decision that \"starts with the letter d\" meant \"lower- or\n",
    "# upper-case\", in which case our purpose would document that choice,\n",
    "# our examples/tests would illustrate and test it, and our code would\n",
    "# implement it.\n",
    "\n",
    "# Let's put our answer here!\n",
    "\n",
    "@typecheck\n",
    "def starts_with_d(word: str) -> bool:\n",
    "    \"\"\"\n",
    "    Determines if a string starts with the letter d, lowercase or uppercase.\n",
    "    Returns True if so and False otherwise.\n",
    "    \"\"\"\n",
    "    # return True # stub\n",
    "    # return ...(word) # template based on atomic non-distinct\n",
    "\n",
    "    # We have to check that the string is not empty before we try to access \n",
    "    # the first character of the string with word[0]\n",
    "    if word == \"\":\n",
    "        return False\n",
    "    else:\n",
    "        return word[0] == \"d\" or word[0] == \"D\"\n",
    "\n",
    "start_testing()\n",
    "\n",
    "expect(starts_with_d(\"\"), False)\n",
    "\n",
    "expect(starts_with_d(\"dinosaur\"), True)\n",
    "expect(starts_with_d(\"car\"), False)\n",
    "\n",
    "expect(starts_with_d(\"David\"), True)\n",
    "expect(starts_with_d(\"Jessica\"), False)\n",
    "\n",
    "expect(starts_with_d(\"d\"), True)\n",
    "expect(starts_with_d(\"i\"), False)\n",
    "\n",
    "expect(starts_with_d(\"D\"), True)\n",
    "expect(starts_with_d(\"C\"), False)\n",
    "\n",
    "expect(starts_with_d(\"hello world!\"), False)\n",
    "expect(starts_with_d(\"doughnuts are on sale\"), True)\n",
    "\n",
    "expect(starts_with_d(\"Hello World!\"), False)\n",
    "expect(starts_with_d(\"Doughnuts Are On Sale\"), True)\n",
    "\n",
    "summary()\n",
    "```\n",
    "    \n",
    "</details>"
   ]
  },
  {
   "cell_type": "code",
   "execution_count": null,
   "metadata": {},
   "outputs": [],
   "source": []
  }
 ],
 "metadata": {
  "kernelspec": {
   "display_name": "Python 3 (ipykernel)",
   "language": "python",
   "name": "python3"
  },
  "language_info": {
   "codemirror_mode": {
    "name": "ipython",
    "version": 3
   },
   "file_extension": ".py",
   "mimetype": "text/x-python",
   "name": "python",
   "nbconvert_exporter": "python",
   "pygments_lexer": "ipython3",
   "version": "3.9.13"
  }
 },
 "nbformat": 4,
 "nbformat_minor": 2
}
