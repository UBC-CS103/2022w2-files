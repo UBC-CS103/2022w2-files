{
 "cells": [
  {
   "cell_type": "code",
   "execution_count": null,
   "metadata": {},
   "outputs": [],
   "source": [
    "from cs103 import *"
   ]
  },
  {
   "cell_type": "markdown",
   "metadata": {},
   "source": [
    "# CPSC 103 - Systematic Program Design\n",
    "# Module 04 Day 1\n",
    "Rik Blok, with thanks to Prof. Giulia Toti\n",
    "\n",
    "---"
   ]
  },
  {
   "cell_type": "markdown",
   "metadata": {},
   "source": [
    "# Reminders\n",
    "- Wed: Module 1 (Intro): Tutorial Resubmission\n",
    "- Wed: Module 3 (HtDD): Code Review\n",
    "- Wed: Module 3 (HtDD): Tutorial\n",
    "- Mon: Module 4 (Compound): Worksheet\n",
    "- Mon: Module 5: Pre-Lecture Assignment\n",
    "\n",
    "See also the [course calendar](https://canvas.ubc.ca/calendar?include_contexts=course_106343) (**[v.gd/6KJtbx](https://v.gd/6KJtbx)**).\n",
    "\n",
    "---"
   ]
  },
  {
   "cell_type": "markdown",
   "metadata": {},
   "source": [
    "# Aside: Back to intervals\n",
    "\n",
    "Assume you are working with the following data type:"
   ]
  },
  {
   "cell_type": "code",
   "execution_count": null,
   "metadata": {},
   "outputs": [],
   "source": [
    "Time = int # in range[0, 86400) \n",
    "# interp. seconds since midnight\n",
    "\n",
    "T_MIDNIGHT = 0 \n",
    "T_ONE_AM = 3600 \n",
    "T_NOON = 43200 \n",
    "T_END_OF_DAY = 86399\n",
    "\n",
    "@typecheck \n",
    "# Template based on Atomic Non-Distinct \n",
    "def fn_for_time(t: Time) -> ...: \n",
    "    return ...(t)"
   ]
  },
  {
   "cell_type": "markdown",
   "metadata": {},
   "source": [
    "<img style=\"float: right; width:10%\" src=\"https://lthub.ubc.ca/files/2020/07/iClicker-Cloud-Logo.png\">\n",
    "\n",
    "### iClicker question: Back to intervals\n",
    "\n",
    "Let's say we design a function `is_it_time_yet(t: Time)` based on the data definition for `Time` above.  What happens if our program calls `is_it_time_yet(99999)`?\n",
    "\n",
    "<!-- formatting: add two spaces at end of line to force linebreak -->\n",
    "\n",
    "A. The program accepts the value and continues  \n",
    "B. The program generates an error  \n",
    "C. The program waits for a valid `Time`  \n",
    "D. The program terminates abruptly  \n",
    "E. Something else  \n",
    "\n",
    "<details class=\"alert alert-info\"><summary style=\"cursor:pointer; display:list-item\">ℹ️ Hint (for your review after class)</summary>\n",
    "\n",
    "How is the range specified in the data definition?\n",
    "\n",
    "</details>\n",
    "\n",
    "---"
   ]
  },
  {
   "cell_type": "markdown",
   "metadata": {},
   "source": [
    "# Asserting intervals (optional)\n",
    "\n",
    "\n",
    "**Q:** How can we make sure the value is in the allowed range? \n",
    "\n",
    "**A:** Recall `assert` from Module 02 Day 2 lecture:\n",
    "```python\n",
    "assert 1 < 2 # continues because 1 < 2 is True\n",
    "assert 1 > 2 # throws error because 1 > 2 is False\n",
    "```\n",
    "\n",
    "It will generate an error if the expression is False and just let the program keep running normally if the expression is True.  \n",
    "\n",
    "You may add assertions to your function (but it won't be required), to enforce the range.  \n",
    "\n",
    "**Example problem:** Write a function that receives a time (as a number of seconds after midnight) and determines whether it is afternoon."
   ]
  },
  {
   "cell_type": "code",
   "execution_count": null,
   "metadata": {},
   "outputs": [],
   "source": [
    "@typecheck \n",
    "def is_afternoon(t: Time) -> bool: \n",
    "    \"\"\"\n",
    "    Returns True if the time `t` is afternoon, otherwise False.\n",
    "    \"\"\"\n",
    "    # return True # stub \n",
    "    assert t >= 0    # optional, enforces lower limit of range\n",
    "    assert t < 86400 # optional, enforces upper limit of range\n",
    "    # template from Time\n",
    "    return t >= T_NOON\n",
    "\n",
    "start_testing()\n",
    "expect(is_afternoon(T_MIDNIGHT), False)\n",
    "expect(is_afternoon(43199), False) # 11:59 AM\n",
    "expect(is_afternoon(T_NOON), True)\n",
    "expect(is_afternoon(T_END_OF_DAY), True)\n",
    "# Times outside of allowed interval throw errors\n",
    "#expect(is_afternoon(-1), True)\n",
    "#expect(is_afternoon(86400), False)\n",
    "summary()"
   ]
  },
  {
   "cell_type": "markdown",
   "metadata": {},
   "source": [
    "# Data types\n",
    "\n",
    "### Last week:\n",
    "- Simple atomic\n",
    "- Interval\n",
    "- Enumeration\n",
    "- Optional\n",
    "\n",
    "**Q:** What is an example of each?\n",
    "\n",
    "<details class=\"alert alert-info\"><summary style=\"cursor:pointer; display:list-item\">ℹ️ Some examples (for review after class)</summary>\n",
    "\n",
    "- Simple atomic: A student's name (unconstrained `str`)\n",
    "- Interval: A person's age (`int # in range[0,...)`)\n",
    "- Enumeration: Flavours of tea (`EARL_GRAY`, `CHAI`, `DARJEELING`)\n",
    "- Optional: A person's favourite ice cream flavour (`VANILLA`, `STRAWBERRY`, `CHOCOLATE`, or None if person doesn't like ice cream).  But an enumeration would work as well, here.\n",
    "                                                                                                                 \n",
    "</details>\n",
    "\n",
    "\n",
    "### Now:\n",
    "- **Compound data (Module 4)**\n",
    "\n",
    "### Later:\n",
    "- Arbitrary-sized (Module 5)\n",
    "\n",
    "---"
   ]
  },
  {
   "cell_type": "markdown",
   "metadata": {},
   "source": [
    "# Module learning goals\n",
    "\n",
    "By the end of this module, you will be able to:\n",
    "\n",
    "- Identify problem domain information that should be represented as compound data. \n",
    "- Understand and write `NamedTuple` definitions. \n",
    "- Use the HtDD, and Data Driven Templates recipes with compound data. \n",
    "- Design functions that take in and/or return compound data. \n",
    "\n",
    "---"
   ]
  },
  {
   "cell_type": "markdown",
   "metadata": {},
   "source": [
    "# Compound data\n",
    "\n",
    "Sometimes, the information to be represented has two or more values that naturally belong together:\n",
    "- First name, last name, and student ID of a student\n",
    "- Title, artist, album, and duration of a song\n",
    "- Title, year, and director of a movie\n",
    "- ...\n",
    "\n",
    "Compound data offers a way to handle that!\n",
    "\n",
    "---"
   ]
  },
  {
   "cell_type": "markdown",
   "metadata": {},
   "source": [
    "# Example\n",
    "We'll represent compound data with the `NamedTuple` data type.  For example, let's say we wanted to represent a velocity, including a speed and direction:\n",
    "\n",
    "```python\n",
    "from typing import NamedTuple \n",
    "Velocity = NamedTuple('Velocity', [('speed', float), \n",
    "                                   ('dir', int)]) # in range[0,359] \n",
    "```\n",
    "<details class=\"alert alert-success\"><summary style=\"cursor:pointer; display:list-item\">✅ Any number of fields ok</summary>\n",
    "\n",
    "Alternatively, could have more fields.  Notice the pattern:\n",
    "```python\n",
    "Velocity = NamedTuple('Velocity', [('speed', float), \n",
    "                                   ('dir', int), # in range[0,359] \n",
    "                                   ('x_component', float), \n",
    "                                   ('y_component', float)])\n",
    "```\n",
    "</details>\n",
    "\n",
    "```python\n",
    "# interp. a velocity with its speed in m/s and direction \n",
    "# as an angle in degrees with east=0 increasing counterclockwise \n",
    "\n",
    "V1 = Velocity(9, 22) \n",
    "V2 = Velocity(3.4, 180) \n",
    "\n",
    "# template based on Compound \n",
    "@typecheck \n",
    "def fn_for_velocity(v: Velocity) -> ...: \n",
    "\treturn ...(v.speed, v.dir) \n",
    "```\n",
    "Notice how the fields (`speed` and `dir`) are treated as parameters in the `return` statement, using \"dot notation\":\n",
    "- A function we design might not use them all but the data template shows all available information\n",
    "- Each field has a data type.  Can be anything... simple atomic, interval, enumeration, even another compound(!), and more!\n",
    "    \n",
    "---"
   ]
  },
  {
   "cell_type": "markdown",
   "metadata": {},
   "source": [
    "# Glossary\n",
    "- **tuple** - a set of attributes that belong together (e.g., `Velocity` has attributes `speed` and `dir`)\n",
    "    - from the latin suffix *-uple*, e.g., co**uple**, tri**ple**, quadr**uple**, quin**tuple**, ...\n",
    "- **field** - the name of an attribute (e.g., `speed` or `dir`)\n",
    "- **value** - the data assigned to an attribute (e.g., `3.4` or `180`)\n",
    "- **instance** - a specific realization of a data type (e.g., `Velocity(3.4, 180)`)\n",
    "\n",
    "---"
   ]
  },
  {
   "cell_type": "markdown",
   "metadata": {},
   "source": [
    "<img style=\"float: right; width:10%\" src=\"https://lthub.ubc.ca/files/2020/07/iClicker-Cloud-Logo.png\">\n",
    "\n",
    "### iClicker question: Name that tuple\n",
    "\n",
    "You're designing a data definition for wall paint, with the following properties: colour, finish (glossy or flat), drying time, and base (oil or latex).\n",
    "\n",
    "What should you choose for a name to give your new data type?\n",
    "\n",
    "<!-- formatting: add two spaces at end of line to force linebreak -->\n",
    "    \n",
    "A. `Colour`  \n",
    "B. `Finish`  \n",
    "C. `DryingTime`  \n",
    "D. `Base`  \n",
    "E. Something else  \n",
    "\n",
    "<details class=\"alert alert-info\"><summary style=\"cursor:pointer; display:list-item\">ℹ️ Hint (for your review after class)</summary>\n",
    "\n",
    "We want the name to reflect the object with **all** of these attributes.\n",
    "    \n",
    "</details>\n",
    "\n",
    "---"
   ]
  },
  {
   "cell_type": "markdown",
   "metadata": {},
   "source": [
    "# Instances of compounds\n",
    "\n",
    "- Create a new instance of a compound data type with name of type and list of values for arguments.  E.g.,\n",
    "```python\n",
    "V2 = Velocity(3.4, 180)\n",
    "```\n",
    "\n",
    "Need...\n",
    "- the right number of arguments, e.g. two,\n",
    "- in the right order, e.g., `speed` before `dir`,\n",
    "- of the right type, e.g., `float` then `int # in range[0,359]`\n",
    "\n",
    "(Analagous to argument requirements when calling functions.)\n",
    "\n",
    "---"
   ]
  },
  {
   "cell_type": "markdown",
   "metadata": {},
   "source": [
    "<img style=\"float: right; width:10%\" src=\"https://lthub.ubc.ca/files/2020/07/iClicker-Cloud-Logo.png\">\n",
    "\n",
    "# iClicker question: Short answer\n",
    "What's a field you might add to a compound data type `Student`?  Enter the field name as a valid identifier in *snake_case*, e.g., `birth_date`.\n",
    "\n",
    "<!-- formatting: add two spaces at end of line to force linebreak -->\n",
    "\n",
    "\n",
    "---"
   ]
  },
  {
   "cell_type": "markdown",
   "metadata": {},
   "source": [
    "# Cartesian coordinates"
   ]
  },
  {
   "cell_type": "markdown",
   "metadata": {},
   "source": [
    "Let's create a data type to work with the [Cartesian coordinate system](https://en.wikipedia.org/wiki/Cartesian_coordinate_system) in a plane.  Any point can be specified by two numbers: its $x$ and $y$ coordinates."
   ]
  },
  {
   "cell_type": "code",
   "execution_count": null,
   "metadata": {},
   "outputs": [],
   "source": [
    "\n",
    "CartesianCoord = ... # TODO!\n",
    "\n"
   ]
  },
  {
   "cell_type": "markdown",
   "metadata": {},
   "source": [
    "- Notice the format of the data definition, especially the `(field, type)` pairs in the square brackets:\n",
    "\n",
    "<details class=\"alert alert-success\"><summary style=\"display:list-item\">✅ 1. Square brackets...</summary>\n",
    "\n",
    "```python\n",
    "MyCompound = NamedTuple('MyCompound', [ ... ])\n",
    "                        \n",
    "```\n",
    "\n",
    "</details>\n",
    "\n",
    "<details class=\"alert alert-success\"><summary style=\"display:list-item\">✅ 2. Surrounding a comma-separated list...</summary>\n",
    "\n",
    "```python\n",
    "MyCompound = NamedTuple('MyCompound', [ ... ,\n",
    "                                        ... ,\n",
    "                                        ... ,\n",
    "                                        ...\n",
    "                                      ])\n",
    "                        \n",
    "```\n",
    "\n",
    "</details>\n",
    "\n",
    "<details class=\"alert alert-success\"><summary style=\"display:list-item\">✅ 3. Of (field, type) pairs</summary>\n",
    "\n",
    "```python\n",
    "MyCompound = NamedTuple('MyCompound', [ ('field1', type1) ,\n",
    "                                        ('field2', type2) ,\n",
    "                                        ... ,\n",
    "                                        ('fieldn', typen)\n",
    "                                      ])\n",
    "                        \n",
    "```\n",
    "\n",
    "</details>\n",
    "\n",
    "\n",
    "<details class=\"alert alert-info\" style=\"cursor:pointer;\"><summary style=\"display:list-item\">ℹ️ Sample solution (For later.  Don't peek if you want to learn 🙂)</summary>\n",
    "    \n",
    "```python\n",
    "from typing import NamedTuple \n",
    "\n",
    "CartesianCoord = NamedTuple('CartesianCoord', [('x', float), \n",
    "                                               ('y', float)])  \n",
    "\n",
    "# interp. Cartesian coordinate in a two-dimensional plane \n",
    "\n",
    "CC_ORIG = CartesianCoord(0, 0)\n",
    "CC1 = CartesianCoord(2, 5.5)\n",
    "CC2 = CartesianCoord(-1.2, -4.4)\n",
    "\n",
    "# template based on Compound \n",
    "@typecheck \n",
    "def fn_for_cartesian_coord(cc: CartesianCoord) -> ...: \n",
    "    return ...(cc.x, cc.y)\n",
    "```\n",
    "    \n",
    "</details>\n",
    "\n",
    "---"
   ]
  },
  {
   "cell_type": "markdown",
   "metadata": {},
   "source": [
    "# Exercise 1: function for CartesianCoord\n",
    "\n",
    "**Problem:** Design a function that takes a CartesianCoord variable and computes its distance from the origin (0,0).\n",
    "\n",
    "The distance $d$ from the origin can be computed using the [Pythagorean theorem](https://en.wikipedia.org/wiki/Pythagorean_theorem): $d^2 = x^2 + y^2$.\n",
    "\n",
    "<!-- extra code to overlay x & y axis labels.  From https://www.w3schools.com/howto/howto_css_image_text.asp -->\n",
    "\n",
    "<div style=\"position:relative; margin:auto; text-align:center; width:50%\">\n",
    "    <!-- attachment:Pythagoras.png wouldn't show in printouts so switched to Github -->\n",
    "    <img src=\"https://raw.github.students.cs.ubc.ca/rikblok/public/main/CPSC103/module04-pythagoras.png?token=GHSAT0AAAAAAAAAEO3DDLTRM6TIGLLVCWRQY7J355Q\" style=\"width:100%;\">\n",
    "    <div style=\"position:absolute; top:8px; left:25%; transform:translate(-50%,0%);\">$y$</div>\n",
    "    <div style=\"position:absolute; top:70%; right:16px; transform:translate(0%,-50%);\">$x$</div>\n",
    "</div>\n"
   ]
  },
  {
   "cell_type": "code",
   "execution_count": null,
   "metadata": {},
   "outputs": [],
   "source": [
    "from math import sqrt\n",
    "# Hint: Pythagoras to the rescue (see picture above)\n"
   ]
  },
  {
   "cell_type": "markdown",
   "metadata": {},
   "source": [
    "<details class=\"alert alert-info\" style=\"cursor:pointer;\"><summary style=\"display:list-item\">ℹ️ Sample solution (For later.  Don't peek if you want to learn 🙂)</summary>\n",
    "    \n",
    "```python\n",
    "from math import sqrt\n",
    "# Hint: Pythagoras to the rescue (see picture above)\n",
    "@typecheck\n",
    "def distance_from_origin(cc: CartesianCoord) -> float:\n",
    "    \"\"\"\n",
    "    The function takes a CartesianCoord variable and computes its distance from the origin (0,0)\n",
    "    \"\"\"\n",
    "    # return -1  # stub\n",
    "    # Template from CartesianCoord \n",
    "    return sqrt(pow(cc.x, 2) + pow(cc.y,2))\n",
    "\n",
    "start_testing()\n",
    "expect(distance_from_origin(CC_ORIG), 0)\n",
    "expect(distance_from_origin(CartesianCoord(3,4)), 5)\n",
    "expect(distance_from_origin(CartesianCoord(-3,-4)), 5)\n",
    "expect(distance_from_origin(CartesianCoord(-1.5,2)), 2.5)\n",
    "summary()\n",
    "```\n",
    "    \n",
    "</details>\n",
    "\n",
    "---"
   ]
  },
  {
   "cell_type": "code",
   "execution_count": null,
   "metadata": {},
   "outputs": [],
   "source": [
    "distance_from_origin(CC1)"
   ]
  },
  {
   "cell_type": "markdown",
   "metadata": {},
   "source": [
    "# Exercise 2: another function for CartesianCoord\n",
    "\n",
    "**Problem:** Design a function that takes a CartesianCoord variable and returns the corresponding quadrant.\n",
    "\n",
    "<!-- extra code to overlay x & y axis labels.  From https://www.w3schools.com/howto/howto_css_image_text.asp -->\n",
    "\n",
    "<div style=\"float:right;position:relative; margin:auto; text-align:center; width:40%;\">\n",
    "  <a style=\"color:black;\" title=\"W!B:, CC BY-SA 3.0 &lt;http://creativecommons.org/licenses/by-sa/3.0/&gt;, via Wikimedia Commons\" href=\"https://commons.wikimedia.org/wiki/File:Cartesian-coordinate-system-with-quadrant.svg\"><img style=\"vertical-align:middle\" width=\"100%\" alt=\"Cartesian-coordinate-system-with-quadrant\" src=\"https://upload.wikimedia.org/wikipedia/commons/thumb/e/e3/Cartesian-coordinate-system-with-quadrant.svg/512px-Cartesian-coordinate-system-with-quadrant.svg.png\">\n",
    "  <div style=\"position:absolute; top:8px; left:40%; transform:translate(-50%,0%);\">$y$</div>\n",
    "  <div style=\"position:absolute; top:55%; right:16px; transform:translate(0%,-50%);\">$x$</div>\n",
    "</div>\n",
    "    \n",
    "The quadrant corresponds to the coordinates $(x,y)$ as follows:\n",
    "    \n",
    "| $x$ | $y$ | Quadrant |\n",
    "|:---:|:---:|:--------:|\n",
    "| $x>0$ | $y>0$ | 1 |\n",
    "| $x<0$ | $y>0$ | 2 |\n",
    "| $x<0$ | $y<0$ | 3 |\n",
    "| $x>0$ | $y<0$ | 4 |\n",
    "    \n",
    "First, let's create a data definition for quadrant.\n",
    "    \n",
    "---"
   ]
  },
  {
   "cell_type": "markdown",
   "metadata": {},
   "source": [
    "<img style=\"float: right; width:10%\" src=\"https://lthub.ubc.ca/files/2020/07/iClicker-Cloud-Logo.png\">\n",
    "\n",
    "### iClicker question: Which type for quadrant?\n",
    "\n",
    "What data type should we use to represent a quadrant of the plane?\n",
    "\n",
    "<!-- formatting: add two spaces at end of line to force linebreak -->\n",
    "    \n",
    "A. Simple atomic  \n",
    "B. Interval  \n",
    "C. Optional  \n",
    "D. Enumeration  \n",
    "\n",
    "<details class=\"alert alert-info\"><summary style=\"cursor:pointer; display:list-item\">ℹ️ Hint (for your review after class)</summary>\n",
    "\n",
    "What if $x = 0$ or $y = 0$?\n",
    "    \n",
    "</details>\n",
    "\n",
    "---"
   ]
  },
  {
   "cell_type": "markdown",
   "metadata": {},
   "source": [
    "# Quadrant data definition"
   ]
  },
  {
   "cell_type": "code",
   "execution_count": null,
   "metadata": {},
   "outputs": [],
   "source": [
    "\n",
    "Quadrant = ... # TODO!\n",
    "\n"
   ]
  },
  {
   "cell_type": "markdown",
   "metadata": {},
   "source": [
    "<details class=\"alert alert-info\" style=\"cursor:pointer;\"><summary style=\"display:list-item\">ℹ️ Sample solution (For later.  Don't peek if you want to learn 🙂)</summary>\n",
    "    \n",
    "```python\n",
    "from typing import Optional\n",
    "\n",
    "Quadrant = Optional[int]  # in range [1,4]\n",
    "# interpr. One of the 4 quadrants in the 2D Cartesian plane, or None if the coordinate lies\n",
    "# along one of the axes.\n",
    "\n",
    "Q_ORIG = None\n",
    "Q1 = 1\n",
    "Q2 = 2\n",
    "Q3 = 3\n",
    "Q4 = 4\n",
    "\n",
    "@typecheck\n",
    "# Template based on Optional\n",
    "def fn_for_quadrant(q: Quadrant) -> ...:\n",
    "    if q is None:\n",
    "        return ...\n",
    "    else:\n",
    "        return ...(q)\n",
    "```\n",
    "    \n",
    "</details>\n",
    "\n",
    "---"
   ]
  },
  {
   "cell_type": "markdown",
   "metadata": {},
   "source": [
    "**Problem:** Design a function that takes a CartesianCoord variable and returns the corresponding quadrant.\n",
    "\n",
    "Now we can use the HtDF recipe to design our function."
   ]
  },
  {
   "cell_type": "code",
   "execution_count": null,
   "metadata": {},
   "outputs": [],
   "source": [
    "\n",
    "\n"
   ]
  },
  {
   "cell_type": "markdown",
   "metadata": {},
   "source": [
    "<details class=\"alert alert-info\" style=\"cursor:pointer;\"><summary style=\"display:list-item\">ℹ️ Sample solution (For later.  Don't peek if you want to learn 🙂)</summary>\n",
    "    \n",
    "```python\n",
    "@typecheck\n",
    "def quadrant_from_coord(cc: CartesianCoord) -> Quadrant:\n",
    "    \"\"\"\n",
    "    Returns the quadrant of a CartesianCoord variable `cc`, or None if the coordinate lies along\n",
    "    one of the axes.\n",
    "    \"\"\"\n",
    "    # return 0   # stub\n",
    "    #Template from CartesianCoord   # Once again, the template is based on the input parameter, CartesianCoord\n",
    "    if cc.x > 0 and cc.y > 0:\n",
    "         return 1\n",
    "    elif cc.x < 0 and cc.y > 0:\n",
    "         return 2\n",
    "    elif cc.x < 0 and cc.y < 0:\n",
    "         return 3\n",
    "    elif cc.x > 0 and cc.y < 0:\n",
    "        return 4\n",
    "    else:\n",
    "        return None\n",
    "\n",
    "start_testing()\n",
    "expect(quadrant_from_coord(CC_ORIG), None)\n",
    "expect(quadrant_from_coord(CartesianCoord(1,1)), 1)\n",
    "expect(quadrant_from_coord(CartesianCoord(-1,1)), 2)\n",
    "expect(quadrant_from_coord(CartesianCoord(-1,-1)), 3)\n",
    "expect(quadrant_from_coord(CartesianCoord(1,-1)), 4)\n",
    "expect(quadrant_from_coord(CartesianCoord(1,0)), None)\n",
    "expect(quadrant_from_coord(CartesianCoord(-1,0)), None)\n",
    "expect(quadrant_from_coord(CartesianCoord(0,-1)), None)\n",
    "expect(quadrant_from_coord(CartesianCoord(0,1)), None)\n",
    "summary()\n",
    "```\n",
    "    \n",
    "</details>\n",
    "\n",
    "---"
   ]
  },
  {
   "cell_type": "markdown",
   "metadata": {},
   "source": [
    "<img style=\"float: right; width:10%\" src=\"https://lthub.ubc.ca/files/2020/07/iClicker-Cloud-Logo.png\">\n",
    "\n",
    "# iClicker question: Mixing data types\n",
    "\n",
    "You are writing a program to track a manufacturer's line of simple toys.  A toy can be made out of *plastic*, *wood*, or *metal*, and it can be coloured *red*, *green*, or *blue*.  Describe the best data type to represent a toy.\n",
    "\n",
    "<!-- formatting: add two spaces at end of line to force linebreak -->\n",
    "    \n",
    "A. An `Enum` with two cases, each a `NamedTuple` with three attributes  \n",
    "B. A `NamedTuple` with two attributes, each an `Enum` with three cases  \n",
    "C. An `Enum` with three cases, each a `NamedTuple` with two attributes  \n",
    "D. A `NamedTuple` with three attributes, each an `Enum` with two cases  \n",
    "\n",
    "<details class=\"alert alert-info\"><summary style=\"cursor:pointer; display:list-item\">ℹ️ Hint 1 (for your review after class)</summary>\n",
    "\n",
    "If a toy has **all of** a set of properties, should that be a `NamedTuple` or an `Enum`?  On the other hand, what if a toy can only have **one** of a set of properties?\n",
    "\n",
    "<details class=\"alert alert-info\"><summary style=\"cursor:pointer; display:list-item\">ℹ️ Hint 2 (if you're still stuck)</summary>\n",
    "\n",
    "- Can a toy have **both** a material and a colour?  \n",
    "- Can it be made out of all of *plastic*, *wood*, and *metal*?  \n",
    "- How about colour?  Can it be coloured all of *red*, *green*, and *blue*?\n",
    "\n",
    "</details>\n",
    "\n",
    "</details>\n",
    "\n",
    "---"
   ]
  },
  {
   "cell_type": "markdown",
   "metadata": {},
   "source": [
    "# Exercise 3: function for two CartesianCoord variables\n",
    "\n",
    "**Problem:** Design a function that takes two CartesianCoord variables and computes their distance from each other."
   ]
  },
  {
   "cell_type": "code",
   "execution_count": null,
   "metadata": {},
   "outputs": [],
   "source": []
  },
  {
   "cell_type": "markdown",
   "metadata": {},
   "source": [
    "# Exercise 4: function that returns a CartesianCoord variable\n",
    "\n",
    "**Problem:** Design a function that takes two CartesianCoord variables and computes their middle point."
   ]
  },
  {
   "cell_type": "code",
   "execution_count": null,
   "metadata": {},
   "outputs": [],
   "source": []
  },
  {
   "cell_type": "markdown",
   "metadata": {},
   "source": [
    "CartesianCoord is a simple compund with **only 2 fields(!)**, but it shows how powerful and flexible compound data can be!"
   ]
  }
 ],
 "metadata": {
  "kernelspec": {
   "display_name": "Python 3 (ipykernel)",
   "language": "python",
   "name": "python3"
  },
  "language_info": {
   "codemirror_mode": {
    "name": "ipython",
    "version": 3
   },
   "file_extension": ".py",
   "mimetype": "text/x-python",
   "name": "python",
   "nbconvert_exporter": "python",
   "pygments_lexer": "ipython3",
   "version": "3.9.13"
  }
 },
 "nbformat": 4,
 "nbformat_minor": 4
}
