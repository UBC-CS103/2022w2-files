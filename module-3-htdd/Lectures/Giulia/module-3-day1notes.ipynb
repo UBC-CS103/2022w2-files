{
 "cells": [
  {
   "cell_type": "code",
   "execution_count": 1,
   "metadata": {},
   "outputs": [],
   "source": [
    "from cs103 import *"
   ]
  },
  {
   "cell_type": "code",
   "execution_count": 2,
   "metadata": {},
   "outputs": [],
   "source": [
    "# Let's start by implementing the example in the slides.\n",
    "# In this case, we could decide to make Temperature simple atomic or interval.\n",
    "\n",
    "Temperature = float  # in range [-273.15, ...)\n",
    "# interp. the air temperature in degrees Celsius\n",
    "\n",
    "T1 = 0.0 \n",
    "T2 = -24.5 \n",
    "T_LOWEST = -273.15\n",
    " \n",
    "@typecheck \n",
    "# template based on Atomic Non-Distinct \n",
    "def fn_for_temperature(t: Temperature) -> ...: \n",
    "    return ...(t) \n"
   ]
  },
  {
   "cell_type": "code",
   "execution_count": 3,
   "metadata": {},
   "outputs": [
    {
     "name": "stdout",
     "output_type": "stream",
     "text": [
      "\u001b[92m3 of 3 tests passed\u001b[0m\n"
     ]
    }
   ],
   "source": [
    "@typecheck\n",
    "def celsius_to_kelvin(t: Temperature) -> float: \n",
    "    \"\"\"\n",
    "    Takes a temperature in Celsius and returns it coverted to Kelvin\n",
    "    \"\"\"\n",
    "    # return -1   # stub\n",
    "    # Template from Temperature\n",
    "    return t + 273.15\n",
    "   \n",
    "start_testing()\n",
    "expect(celsius_to_kelvin(0), 273.15)\n",
    "expect(celsius_to_kelvin(-273.15), 0)\n",
    "expect(celsius_to_kelvin(100.5), 100.5 + 273.15)\n",
    "summary()\n",
    "\n",
    "# Why are we returning float and not Temperature?\n",
    "# In the interpretation, we said Temperature is in Celsius, so it would\n",
    "# not be appropriate."
   ]
  },
  {
   "cell_type": "markdown",
   "metadata": {},
   "source": [
    "Picking the right data type requires practice. Let's see how you do with these:\n",
    "- The colors of the rainbow\n",
    "- The colors of a sweater\n",
    "- Names for pet cats\n",
    "- Names of players in a soccer team\n",
    "- Red cell count in a patient\n",
    "\n",
    "Vote here (we'll do it one by one): https://www.menti.com/8t7gcosgm7"
   ]
  },
  {
   "cell_type": "markdown",
   "metadata": {},
   "source": [
    "## Data type for bank account balance\n",
    "\n",
    "In the cell below, we have started designing a data definition for a bank account balance. Complete the definition by adding the correct template."
   ]
  },
  {
   "cell_type": "code",
   "execution_count": 4,
   "metadata": {},
   "outputs": [],
   "source": [
    "AccountValue = float\n",
    "# interpr. the value held by a bank account\n",
    "\n",
    "AV0 = 0\n",
    "AV_POS = 1500.55\n",
    "AV_NEG = -300.10\n",
    "\n",
    "@typecheck \n",
    "# Template based on Atomic Non-Distinct\n",
    "def fn_for_account_value(av: AccountValue) -> ...: \n",
    "    return ...(av)\n"
   ]
  },
  {
   "cell_type": "markdown",
   "metadata": {},
   "source": [
    "Now, let's design a function that returns True if the account value is negative. We can call it `is_overdrawn`."
   ]
  },
  {
   "cell_type": "code",
   "execution_count": 5,
   "metadata": {},
   "outputs": [
    {
     "name": "stdout",
     "output_type": "stream",
     "text": [
      "\u001b[92m3 of 3 tests passed\u001b[0m\n"
     ]
    }
   ],
   "source": [
    "# Design is_overdrawn here, using the template from AccountValue\n",
    "@typecheck\n",
    "def is_overdrawn(av: AccountValue) -> bool: \n",
    "    \"\"\"\n",
    "    Returns True if the AccountValue is negative, False otherwise\n",
    "    \"\"\"\n",
    "    # return True  # stub\n",
    "    # Template from AccountValue\n",
    "    return av < 0\n",
    "\n",
    "start_testing()\n",
    "expect(is_overdrawn(AV0), False)\n",
    "expect(is_overdrawn(-0.01), True)\n",
    "expect(is_overdrawn(0.01), False)\n",
    "summary()"
   ]
  },
  {
   "cell_type": "markdown",
   "metadata": {},
   "source": [
    "As always, once we have a function, we can use it! Write a function call to `is_overdrawn` here:"
   ]
  },
  {
   "cell_type": "code",
   "execution_count": 6,
   "metadata": {},
   "outputs": [
    {
     "data": {
      "text/plain": [
       "False"
      ]
     },
     "execution_count": 6,
     "metadata": {},
     "output_type": "execute_result"
    }
   ],
   "source": [
    "# Call is_overdrawn\n",
    "value = 1000\n",
    "is_overdrawn(value)"
   ]
  },
  {
   "cell_type": "markdown",
   "metadata": {},
   "source": [
    "## \"Standing\" Problem\n",
    "\n",
    "Design a function that takes a standing (SD for \"standing deferred\",\n",
    "AUD for \"audit\", and W for \"withdraw\") and determines whether the\n",
    "student is still working on the course where they earned that\n",
    "standing.\n",
    "\n",
    "**To do this**, we'll need a data definition for a standing."
   ]
  },
  {
   "cell_type": "code",
   "execution_count": 14,
   "metadata": {},
   "outputs": [],
   "source": [
    "from enum import Enum\n",
    "\n",
    "Standing = Enum('Standing', ['SD', 'AUD', 'W'])\n",
    "# interp. Student standing, one of Standing Deferred (SD), audit (AUD),\n",
    "# or withdraw (W)\n",
    "\n",
    "# examples are redundant for enumeration\n",
    "\n",
    "@typecheck\n",
    "# Template based on Enumeration (3 cases)\n",
    "def fn_for_standing(s: Standing) -> ...:\n",
    "    if s == Standing.SD:\n",
    "        return ...\n",
    "    elif s == Standing.AUD:\n",
    "        return ...\n",
    "    elif s == Standing.W:\n",
    "        return ...\n",
    "    \n",
    "# Done! On Thursday, we will use this data definition"
   ]
  },
  {
   "cell_type": "markdown",
   "metadata": {},
   "source": [
    "Now we can design the function that takes a standing and \"determines whether the\n",
    "student is still working on the course where they earned that\n",
    "standing.\""
   ]
  },
  {
   "cell_type": "code",
   "execution_count": null,
   "metadata": {},
   "outputs": [],
   "source": [
    "@typecheck\n",
    "def still_working(s: Standing) -> ...:\n",
    "    \"\"\"\n",
    "    TODO!\n",
    "    \"\"\"\n",
    "    return 0  # INCORRECT stub\n",
    "\n",
    "start_testing()\n",
    "#expect(still_working(TODO), TODO)\n",
    "summary()"
   ]
  },
  {
   "cell_type": "markdown",
   "metadata": {},
   "source": [
    "A single data definition usually gets used for many different functions in your program, but we often only have time for one in class, tutorial, and assignments. Let's do a second design here!\n",
    "\n",
    "**Problem:** Design a function that takes a standing (as above) and returns an English explanation of what the standing means.\n",
    "\n",
    "We already have the data definition, which guides our function design. Indeed, the designed function is very similar to the previous one. Finding where it's *different* may tell you a lot about why examples and templates are useful!"
   ]
  },
  {
   "cell_type": "code",
   "execution_count": null,
   "metadata": {},
   "outputs": [],
   "source": [
    "@typecheck\n",
    "def describe_standing(s: Standing) -> ...:\n",
    "    \"\"\"\n",
    "    returns an English description of s\n",
    "    \"\"\"\n",
    "    return 0  # INCORRECT stub\n",
    "\n",
    "start_testing()\n",
    "# We've gone ahead and filled in the test cases already to help move us along a bit!\n",
    "# The HtDD recipe tells us we should have one test for every value in the Standing enumeration!\n",
    "expect(describe_standing(Standing.SD), \"Standing Deferred: awaiting completion of some additional requirement\")\n",
    "expect(describe_standing(Standing.AUD), \"Auditing: sat in on the course for credit, but not for a grade\")\n",
    "expect(describe_standing(Standing.W), \"Withdrawn: Withdrew from the course after the add/drop deadline\")\n",
    "summary()"
   ]
  },
  {
   "cell_type": "markdown",
   "metadata": {},
   "source": [
    "Well done! Now, write a call to `describe_standing`:"
   ]
  },
  {
   "cell_type": "code",
   "execution_count": null,
   "metadata": {},
   "outputs": [],
   "source": [
    "# Call describe_standing"
   ]
  },
  {
   "cell_type": "markdown",
   "metadata": {},
   "source": [
    "## Robotic Wheelchair Problem\n",
    "\n",
    "**Problem:** A robotic wheelchair has a sensor that\n",
    "warns if it gets too close to an object. A reading from the sensor is\n",
    "either a distance in centimeters (that is zero or greater) or an error\n",
    "code indicating that no data is presently available. Design a function\n",
    "to determine if a wheelchair is definitely safely out of range of any\n",
    "object (at least 50cm).\n",
    "\n",
    "As before, we need to design a data definition before we can design the function!"
   ]
  },
  {
   "cell_type": "code",
   "execution_count": null,
   "metadata": {},
   "outputs": [],
   "source": [
    "Reading = ...  # TODO!\n",
    "\n",
    "\n"
   ]
  },
  {
   "cell_type": "markdown",
   "metadata": {},
   "source": [
    "Now on to designing the function. Here's the problem statement again:\n",
    "\n",
    "Design a function to determine if a wheelchair is definitely safely out of range of any object (at least 50cm)."
   ]
  },
  {
   "cell_type": "code",
   "execution_count": null,
   "metadata": {},
   "outputs": [],
   "source": [
    "@typecheck\n",
    "def is_safe(r: Reading) -> bool:\n",
    "    \"\"\"\n",
    "    determines whether a wheelchair with a sensor reading of r is known to be\n",
    "    safely out of range of any object (at least 50cm away)\n",
    "    \"\"\"\n",
    "    return True #stub\n",
    "\n",
    "start_testing()\n",
    "#expect(is_safe(TODO), TODO)\n",
    "summary()"
   ]
  },
  {
   "cell_type": "markdown",
   "metadata": {},
   "source": [
    "Let's end with one more call to `is_safe`:"
   ]
  },
  {
   "cell_type": "code",
   "execution_count": null,
   "metadata": {},
   "outputs": [],
   "source": [
    "# Call is_safe"
   ]
  }
 ],
 "metadata": {
  "kernelspec": {
   "display_name": "Python 3 (ipykernel)",
   "language": "python",
   "name": "python3"
  },
  "language_info": {
   "codemirror_mode": {
    "name": "ipython",
    "version": 3
   },
   "file_extension": ".py",
   "mimetype": "text/x-python",
   "name": "python",
   "nbconvert_exporter": "python",
   "pygments_lexer": "ipython3",
   "version": "3.10.8"
  }
 },
 "nbformat": 4,
 "nbformat_minor": 2
}
