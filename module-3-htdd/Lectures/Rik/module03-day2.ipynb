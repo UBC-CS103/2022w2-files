{
 "cells": [
  {
   "cell_type": "code",
   "execution_count": null,
   "metadata": {},
   "outputs": [],
   "source": [
    "from cs103 import *"
   ]
  },
  {
   "cell_type": "markdown",
   "metadata": {},
   "source": [
    "# CPSC 103 - Systematic Program Design\n",
    "# Module 03 Day 2\n",
    "Rik Blok, with thanks to Prof. Giulia Toti\n",
    "\n",
    "---"
   ]
  },
  {
   "cell_type": "markdown",
   "metadata": {},
   "source": [
    "# Reminders\n",
    "- Mon: Module 3 (HtDD): Worksheet\n",
    "- Mon: Module 4: Pre-Lecture Assignment\n",
    "- Mon: Project: Team Registration (only required if you're working with a partner)\n",
    "- Wed: Module 1 (Intro): Tutorial Resubmission\n",
    "- Wed: Module 3 (HtDD): Code Review\n",
    "- Wed: Module 3 (HtDD): Tutorial\n",
    "\n",
    "See also the [course calendar](https://canvas.ubc.ca/calendar?include_contexts=course_106343) (**[v.gd/6KJtbx](https://v.gd/6KJtbx)**).\n",
    "\n",
    "---"
   ]
  },
  {
   "cell_type": "markdown",
   "metadata": {},
   "source": [
    "# How to Design Data recipe (HtDD)\n",
    "\n",
    "1. **Definition:** the line that tells Python the name of the new type, it is like a signature from the HtDF. \n",
    "2. **Interpretation:** describes what the new data type represents, it is like the purpose from the HtDF. \n",
    "3. **Examples:** they show how to form data of this type, usually giving special cases. \n",
    "4. **Template:** this is a one-parameter function that shows how a function acting on this data should operate. \n",
    "\n",
    "There are several types of data, and there is *no firm rule* for when to use a particular one... it should just fit your problem.\n",
    "\n",
    "---"
   ]
  },
  {
   "cell_type": "markdown",
   "metadata": {},
   "source": [
    "# Data types\n",
    "\n",
    "#### Now:\n",
    "- Simple atomic data - primitive with better name and description\n",
    "- Interval - numbers within a certain range\n",
    "- Enumeration - a fixed number of distinct values\n",
    "- Optional - well-represented by another data type except for one special case\n",
    "\n",
    "#### Later:\n",
    "- Compound data (Module 4)\n",
    "- Arbitrary-sized (Module 5)\n",
    "\n",
    "---"
   ]
  },
  {
   "cell_type": "markdown",
   "metadata": {},
   "source": [
    "# Templates\n",
    "\n",
    "#### Data template\n",
    "This is a one-parameter function that shows how a function operating on this data should operate. \n",
    "\n",
    "#### How to use with function template\n",
    "When writing function with HtDF recipe, in Step 3 \"Template\", use data template instead of writing your own:\n",
    "- Comment out the body of the stub, as usual\n",
    "- Then **copy the body of template from the data definition to the function**\n",
    "- If there is no data definition, just copy all parameters (as we did in HtDF for atomic non-distinct data) \n",
    "\n",
    "References: [How to Design Data](https://canvas.ubc.ca/courses/106343/modules/items/5186606) and [Data Driven Templates](https://canvas.ubc.ca/courses/106343/modules/items/5186607) modules on Canvas\n",
    "\n",
    "---"
   ]
  },
  {
   "cell_type": "markdown",
   "metadata": {},
   "source": [
    "# \"Standing\" solution\n",
    "\n",
    "**Problem:** Design a function that takes a standing (SD for \"standing deferred\",\n",
    "AUD for \"audit\", and W for \"withdraw\") and determines whether the\n",
    "student is still working on the course where they earned that\n",
    "standing.\n",
    "\n",
    "Note:\n",
    "- You don't need to memorize the library for the data definition.  Just look it up!\n",
    "```python\n",
    "# Simple atomic doesn't require a library\n",
    "# Interval doesn't require a library\n",
    "from enum import Enum        # Enumeration\n",
    "from typing import Optional  # Optional\n",
    "```"
   ]
  },
  {
   "cell_type": "code",
   "execution_count": null,
   "metadata": {},
   "outputs": [],
   "source": [
    "from enum import Enum\n",
    "\n",
    "Standing = Enum('Standing', ['SD', 'AUD', 'W'])\n",
    "# interp. A student's standing in a course \n",
    "# (SD for \"standing deferred\", AUD for \"audit\", \n",
    "# and W for \"withdraw\")\n",
    "\n",
    "# examples are redundant for enumeration\n",
    "\n"
   ]
  },
  {
   "cell_type": "markdown",
   "metadata": {},
   "source": [
    "<details class=\"alert alert-info\" style=\"cursor:pointer;\"><summary style=\"display:list-item\">ℹ️ Sample solution (For later.  Don't peek if you want to learn 🙂)</summary>\n",
    "    \n",
    "```python\n",
    "\n",
    "from enum import Enum\n",
    "\n",
    "Standing = Enum('Standing', ['SD', 'AUD', 'W'])\n",
    "# interpr. the standing of a student in a course, which is either SD for\n",
    "# \"standing deferred\", AUD for \"audit\", and W for \"withdraw\n",
    "\n",
    "# examples are redundant for enumeration\n",
    "\n",
    "@typecheck\n",
    "# Template for Enumeration (3 cases)\n",
    "def fn_for_standing(s: Standing) -> ...:\n",
    "    if s == Standing.SD:\n",
    "        return ...\n",
    "    elif s == Standing.AUD:\n",
    "        return ...\n",
    "    elif s == Standing.W:\n",
    "        return ...\n",
    "    \n",
    "```\n",
    "    \n",
    "</details>\n",
    "\n",
    "---"
   ]
  },
  {
   "cell_type": "markdown",
   "metadata": {},
   "source": [
    "### Using the data definition to design a function\n",
    "Now we can design – using the HtDF recipe – the function that takes a standing and \"determines whether the student is still working on the course where they earned that standing.\"\n",
    "\n",
    "Notice that the \"Template\" step in the HtDF recipe changes from **writing** a template to instead **copying** a template."
   ]
  },
  {
   "cell_type": "code",
   "execution_count": null,
   "metadata": {},
   "outputs": [],
   "source": [
    "@typecheck\n",
    "def still_working(s: Standing) -> ...:\n",
    "    \"\"\"\n",
    "    TODO!\n",
    "    \"\"\"\n",
    "    return 0  # INCORRECT stub\n",
    "\n",
    "start_testing()\n",
    "#expect(still_working(TODO), TODO)\n",
    "summary()"
   ]
  },
  {
   "cell_type": "markdown",
   "metadata": {},
   "source": [
    "### Re-using our \"Standing\" data definition\n",
    "A single data definition usually gets used for many different functions in your program, but we often only have time for one in class, tutorial, and assignments. Let's do a second design here!\n",
    "\n",
    "**Problem:** Design a function that takes a standing (as above) and returns an English explanation of what the standing means.\n",
    "\n",
    "We already have the data definition, which guides our function design. Indeed, the designed function is very similar to the previous one. Finding where it's *different* may tell you a lot about why examples and templates are useful!"
   ]
  },
  {
   "cell_type": "code",
   "execution_count": null,
   "metadata": {},
   "outputs": [],
   "source": [
    "@typecheck\n",
    "def describe_standing(s: Standing) -> ...:\n",
    "    \"\"\"\n",
    "    returns an English description of s\n",
    "    \"\"\"\n",
    "    return 0  # INCORRECT stub\n",
    "\n",
    "start_testing()\n",
    "# We've gone ahead and filled in the test cases already to help move us along a bit!\n",
    "# The HtDD recipe tells us we should have one test for every value in the Standing enumeration!\n",
    "expect(describe_standing(Standing.SD), \"Standing Deferred: awaiting completion of some additional requirement\")\n",
    "expect(describe_standing(Standing.AUD), \"Auditing: sat in on the course for credit, but not for a grade\")\n",
    "expect(describe_standing(Standing.W), \"Withdrawn: Withdrew from the course after the add/drop deadline\")\n",
    "summary()"
   ]
  },
  {
   "cell_type": "markdown",
   "metadata": {},
   "source": [
    "Well done! Now, write a call to `describe_standing`:"
   ]
  },
  {
   "cell_type": "code",
   "execution_count": null,
   "metadata": {},
   "outputs": [],
   "source": [
    "# Call describe_standing\n"
   ]
  },
  {
   "cell_type": "markdown",
   "metadata": {},
   "source": [
    "# Data type for bank account balance\n",
    "\n",
    "In the cell below, we have started designing a data definition for a bank account balance. Complete the definition by adding the correct template."
   ]
  },
  {
   "cell_type": "code",
   "execution_count": null,
   "metadata": {},
   "outputs": [],
   "source": [
    "AccountValue = float\n",
    "# interpr. the value held by a bank account\n",
    "\n",
    "AV0 = 0\n",
    "AV_POS = 1500.55\n",
    "AV_NEG = -300.10\n",
    "\n"
   ]
  },
  {
   "cell_type": "markdown",
   "metadata": {},
   "source": [
    "Now, let's design a function that returns True if the account value is negative. We can call it `is_overdrawn`."
   ]
  },
  {
   "cell_type": "code",
   "execution_count": null,
   "metadata": {},
   "outputs": [],
   "source": [
    "# Design is_overdrawn here, using the template from AccountValue\n"
   ]
  },
  {
   "cell_type": "markdown",
   "metadata": {},
   "source": [
    "<details class=\"alert alert-info\"><summary style=\"cursor:pointer; display:list-item\">ℹ️ Sample solution (don't peek before trying it yourself!)</summary>\n",
    "\n",
    "```python\n",
    "# Design is_overdrawn here, using the template from AccountValue\n",
    "@typecheck\n",
    "def is_overdrawn(av: AccountValue) -> bool:\n",
    "    \"\"\"\n",
    "    Returns True if av is less than 0, False otherwise\n",
    "    \"\"\"\n",
    "    # return True  # stub\n",
    "    # Template from AccountValue\n",
    "    # return ...(av)   # Original template shown for this exercise only\n",
    "    return av < 0\n",
    "    \n",
    "# For testing, you can use your own values or the examples, as long as you have access to them.\n",
    "# Note that sometimes the data examples will not make for enough test cases and you will have\n",
    "# no choice but to make your own.\n",
    "start_testing()\n",
    "expect(is_overdrawn(500), False)\n",
    "expect(is_overdrawn(AV0), False)\n",
    "expect(is_overdrawn(AV_NEG), True)\n",
    "summary()\n",
    "```\n",
    "                                                                                                                 \n",
    "</details>\n"
   ]
  },
  {
   "cell_type": "markdown",
   "metadata": {},
   "source": [
    "As always, once we have a function, we can use it! Write a function call to `is_overdrawn` here:"
   ]
  },
  {
   "cell_type": "code",
   "execution_count": null,
   "metadata": {},
   "outputs": [],
   "source": [
    "# Call is_overdrawn\n",
    "is_overdrawn(-1.5)"
   ]
  },
  {
   "cell_type": "markdown",
   "metadata": {},
   "source": [
    "# Robotic Wheelchair Problem\n",
    "\n",
    "**Problem:** A robotic wheelchair has a sensor that\n",
    "warns if it gets too close to an object. A reading from the sensor is\n",
    "either a distance in centimeters (that is zero or greater) or an error\n",
    "code indicating that no data is presently available. Design a function\n",
    "to determine if a wheelchair is definitely safely out of range of any\n",
    "object (at least 50cm).\n",
    "\n",
    "As before, we need to design a data definition before we can design the function!\n",
    "\n",
    "---"
   ]
  },
  {
   "cell_type": "markdown",
   "metadata": {},
   "source": [
    "<img style=\"float: right; width:10%\" src=\"https://lthub.ubc.ca/files/2020/07/iClicker-Cloud-Logo.png\">\n",
    "\n",
    "### iClicker question: Data definition\n",
    "How do we represent the reading from the wheelchair sensor in a way that is understandable and meaningful in Python?\n",
    "\n",
    "<!-- formatting: add two spaces at end of line to force linebreak -->\n",
    "\n",
    "A. Simple atomic  \n",
    "B. Interval  \n",
    "C. Enumeration  \n",
    "D. Optional  \n",
    "E. Something else\n",
    "    \n",
    "<details class=\"alert alert-success\"><summary style=\"cursor:pointer; display:list-item\">✅ Next question</summary>\n",
    "\n",
    "Let's do that again, but for the regular (not special case) information.  What type of data should we use to represent that?\n",
    "    \n",
    "</details>\n",
    "\n",
    "---"
   ]
  },
  {
   "cell_type": "markdown",
   "metadata": {},
   "source": [
    "### Data definition"
   ]
  },
  {
   "cell_type": "code",
   "execution_count": null,
   "metadata": {},
   "outputs": [],
   "source": [
    "Reading = ... # TODO!\n",
    "\n"
   ]
  },
  {
   "cell_type": "markdown",
   "metadata": {},
   "source": [
    "<details class=\"alert alert-info\"><summary style=\"cursor:pointer; display:list-item\">ℹ️ Sample solution (don't peek before trying it yourself!)</summary>\n",
    "\n",
    "```python\n",
    "from typing import Optional\n",
    "\n",
    "Reading = Optional[int]   # in range [0,...)\n",
    "# interpr.  A reading from a sensor which is either a distance in centimeters \n",
    "# (that is zero or greater) or None to indicate that no data is presently available.\n",
    "\n",
    "# Good examples for Reading include None, the lower bound of the interval, and another number > 0.\n",
    "# You can choose the names, as long as they start with the data type initials and are uppercase.\n",
    "R_N = None\n",
    "R0 = 0 \n",
    "R_OTHER = 11\n",
    "\n",
    "@typecheck\n",
    "# Template for Optional\n",
    "def fn_for_reading(r: Reading) -> ...: \n",
    "    if r == None:\n",
    "        return ...\n",
    "    else: \n",
    "        return ...(r) \n",
    "```\n",
    "                                                                                                                 \n",
    "</details>\n"
   ]
  },
  {
   "cell_type": "markdown",
   "metadata": {},
   "source": [
    "### Designing the function\n",
    "\n",
    "Now on to designing the function. Here's the problem statement again:\n",
    "\n",
    "**Problem:** Design a function to determine if a wheelchair is definitely safely out of range of any object (at least 50cm).\n",
    "\n",
    "Spend a few minutes designing this function in the code cell below, with the HtDF recipe.  Keep me up-to-date on your progress with the clicker question below.\n"
   ]
  },
  {
   "cell_type": "markdown",
   "metadata": {},
   "source": [
    "<img style=\"float: right; width:10%\" src=\"https://lthub.ubc.ca/files/2020/07/iClicker-Cloud-Logo.png\">\n",
    "\n",
    "### iClicker question: Your HtDF progress?\n",
    "\n",
    "Update your progress here as you complete each step of the HtDF recipe.\n",
    "\n",
    "<!-- formatting: add two spaces at end of line to force linebreak -->\n",
    "\n",
    "A. **S**tub done  \n",
    "B. **E**xamples done  \n",
    "C. **T**emplate done  \n",
    "D. **I**mplementation (coding) done  \n",
    "E. **T**esting done  \n",
    "    "
   ]
  },
  {
   "cell_type": "code",
   "execution_count": null,
   "metadata": {},
   "outputs": [],
   "source": [
    "@typecheck\n",
    "def is_safe(r: Reading) -> ...:\n",
    "    \"\"\"\n",
    "    Returns True if a wheelchair with a sensor reading of r is known to be\n",
    "    safely out of range of any object (at least 50cm away), otherwise False.\n",
    "    \"\"\"\n",
    "    \n",
    "\n",
    "start_testing()\n",
    "#expect(is_safe(...), ...)\n",
    "summary()"
   ]
  },
  {
   "cell_type": "markdown",
   "metadata": {},
   "source": [
    "<details class=\"alert alert-info\"><summary style=\"cursor:pointer; display:list-item\">ℹ️ Sample solution (don't peek before trying it yourself!)</summary>\n",
    "\n",
    "```python\n",
    "@typecheck\n",
    "def is_safe(r: Reading) -> bool:\n",
    "    \"\"\"\n",
    "    Returns True if a wheelchair with a sensor reading of r is known to be\n",
    "    safely out of range of any object (at least 50cm away), otherwise False.\n",
    "    \"\"\"\n",
    "    # return True #stub\n",
    "    # Template from Reading\n",
    "    if r == None:\n",
    "        return False\n",
    "    else: \n",
    "        if  r < 50:\n",
    "            return False\n",
    "        else:\n",
    "            return True\n",
    "\n",
    "start_testing()\n",
    "expect(is_safe(0), False)\n",
    "expect(is_safe(25), False)\n",
    "expect(is_safe(None), False)\n",
    "expect(is_safe(49), False)   # Important to test\n",
    "expect(is_safe(50), True)    # Around the boundary (50)\n",
    "expect(is_safe(70), True)\n",
    "summary()\n",
    "```\n",
    "                                                                                                                 \n",
    "</details>\n"
   ]
  },
  {
   "cell_type": "markdown",
   "metadata": {},
   "source": [
    "<img style=\"float: right; width:10%\" src=\"https://lthub.ubc.ca/files/2020/07/iClicker-Cloud-Logo.png\">\n",
    "\n",
    "### iClicker question: Code review 1\n",
    "\n",
    "Is the code to the right a good solution to the problem?  (Let's assume the purpose is complete.)\n",
    "\n",
    "<div style=\"float: right; width: 75%\">\n",
    "    \n",
    "```python\n",
    "@typecheck\n",
    "def is_safe(r: Reading) -> bool:\n",
    "    \"\"\"\n",
    "    Returns ...\n",
    "    \"\"\"\n",
    "    # return True # stub\n",
    "    # Template from Reading\n",
    "    if r == None:\n",
    "        return False\n",
    "    else:\n",
    "        if r < 50:\n",
    "            return False\n",
    "        elif r > 50:\n",
    "            return True\n",
    "```\n",
    "                \n",
    "</div>\n",
    "\n",
    "<div style=\"float: left; width: 25%\">\n",
    "\n",
    "<!-- formatting: add two spaces at end of line to force linebreak -->\n",
    "\n",
    "    \n",
    "A. ✅ Yes  \n",
    "B. ⛔ No  \n",
    "\n",
    "<details class=\"alert alert-info\"><summary style=\"cursor:pointer; display:list-item\">ℹ️ Hint (for your review after class)</summary>\n",
    "\n",
    "What do you expect to get if you test this code with `is_safe(50)`?\n",
    "\n",
    "</details>\n",
    "\n",
    "</div>\n"
   ]
  },
  {
   "cell_type": "code",
   "execution_count": null,
   "metadata": {},
   "outputs": [],
   "source": []
  },
  {
   "cell_type": "markdown",
   "metadata": {},
   "source": [
    "<img style=\"float: right; width:10%\" src=\"https://lthub.ubc.ca/files/2020/07/iClicker-Cloud-Logo.png\">\n",
    "\n",
    "### iClicker question: Code review 2\n",
    "\n",
    "Is the code to the right a good solution to the problem?  (Let's assume the purpose is complete, sufficient examples are provided, and it passes all tests.)\n",
    "\n",
    "<div style=\"float: right; width: 75%\">\n",
    "    \n",
    "```python\n",
    "@typecheck\n",
    "def is_safe(r: Reading) -> bool:\n",
    "    \"\"\"\n",
    "    Returns ...\n",
    "    \"\"\"\n",
    "    # return True # stub\n",
    "    # Template from Reading\n",
    "    if r == None:\n",
    "        return False\n",
    "    elif r < 50:\n",
    "        return False\n",
    "    else:\n",
    "        return True\n",
    "```\n",
    "                \n",
    "</div>\n",
    "\n",
    "<div style=\"float: left; width: 25%\">\n",
    "\n",
    "<!-- formatting: add two spaces at end of line to force linebreak -->\n",
    "\n",
    "    \n",
    "A. ✅ Yes  \n",
    "B. ⛔ No  \n",
    "\n",
    "<details class=\"alert alert-info\"><summary style=\"cursor:pointer; display:list-item\">ℹ️ Hint (for your review after class)</summary>\n",
    "\n",
    "Does this code follow the template for `Reading`?\n",
    "\n",
    "</details>\n",
    "\n",
    "</div>\n"
   ]
  },
  {
   "cell_type": "markdown",
   "metadata": {},
   "source": [
    "# Age group problem\n",
    "\n",
    "**Problem:** Given a person's age, write a function that identifies the age group the person belongs to.  Here are the age groups we will use:\n",
    "\n",
    "| Age range (in years) | Age group |\n",
    "|:---------:|:---------:|\n",
    "| 0 thru 2 | Infant |\n",
    "| 3 thru 12 | Child |\n",
    "| 13 thru 17 | Teen |\n",
    "| 18 thru 64 | Adult |\n",
    "| 65+ | Senior |\n",
    "\n",
    "---"
   ]
  },
  {
   "cell_type": "markdown",
   "metadata": {},
   "source": [
    "<img style=\"float: right; width:10%\" src=\"https://lthub.ubc.ca/files/2020/07/iClicker-Cloud-Logo.png\">\n",
    "\n",
    "### iClicker question: Data definitions\n",
    "\n",
    "How many data definitions should we write for this problem?\n",
    "\n",
    "<!-- formatting: add two spaces at end of line to force linebreak -->\n",
    "  \n",
    "A. Zero  \n",
    "B. 1  \n",
    "C. 2  \n",
    "D. 3  \n",
    "E. 4  \n",
    "\n",
    "<details class=\"alert alert-info\"><summary style=\"cursor:pointer; display:list-item\">ℹ️ Hint (for your review after class)</summary>\n",
    "\n",
    "Do we need a data definition for age?  How about for the group?  Anything else?\n",
    "\n",
    "</details>\n",
    "\n",
    "</div>\n"
   ]
  },
  {
   "cell_type": "code",
   "execution_count": null,
   "metadata": {},
   "outputs": [],
   "source": [
    "# Data definition\n",
    "\n"
   ]
  },
  {
   "cell_type": "markdown",
   "metadata": {},
   "source": [
    "<details class=\"alert alert-info\"><summary style=\"cursor:pointer; display:list-item\">ℹ️ Sample solution (don't peek before trying it yourself!)</summary>\n",
    "\n",
    "```python\n",
    "Age = int # in range [0,...)\n",
    "#interp. The age of a person, in years.\n",
    "\n",
    "A_NEWBORN = 0\n",
    "A_BABY = 1\n",
    "A_FIRSTGRADE = 6\n",
    "A_GRAD = 18\n",
    "\n",
    "@typecheck\n",
    "# Template for interval\n",
    "def fn_for_age(a: Age) -> ...:\n",
    "    return ...(a)\n",
    "\n",
    "\n",
    "from enum import Enum\n",
    "AgeGroup = Enum('AgeGroup', ['INFANT', 'CHILD', 'TEEN', 'ADULT', 'SENIOR'])\n",
    "# interp. Age group a person belongs to.  Infant for 0-2 years, child for 3-12 years, \n",
    "# teen for 13-17 years, adult for 18-64 years, and senior for 65 or more years of age.\n",
    "\n",
    "# examples redundant for enumerations\n",
    "\n",
    "@typecheck\n",
    "# Template based on enumeration (5 cases)\n",
    "def fn_for_age_group(ag: AgeGroup) -> ...:\n",
    "    if ag == AgeGroup.INFANT:\n",
    "        return ...\n",
    "    elif ag == AgeGroup.CHILD:\n",
    "        return ...\n",
    "    elif ag == AgeGroup.TEEN:\n",
    "        return ...\n",
    "    elif ag == AgeGroup.ADULT:\n",
    "        return ...\n",
    "    elif ag == AgeGroup.SENIOR:\n",
    "        return ...\n",
    "```\n",
    "                                                                                                                 \n",
    "</details>\n"
   ]
  },
  {
   "cell_type": "markdown",
   "metadata": {},
   "source": [
    "### Design our function\n",
    "\n",
    "Now we're ready to design our function using our HtDF recipe.  Recall the problem.\n",
    "\n",
    "**Problem:** Given a person's age, write a function that identifies the age group the person belongs to."
   ]
  },
  {
   "cell_type": "markdown",
   "metadata": {},
   "source": [
    "<img style=\"float: right; width:10%\" src=\"https://lthub.ubc.ca/files/2020/07/iClicker-Cloud-Logo.png\">\n",
    "\n",
    "### iClicker question: HtDF template\n",
    "\n",
    "In step 3 of our HtDF recipe we'll copy a template from a data definition.  Which definition should we copy from?\n",
    "\n",
    "<!-- formatting: add two spaces at end of line to force linebreak -->\n",
    "  \n",
    "A. `Age`  \n",
    "B. `AgeGroup`  \n",
    "C. Either, whichever we prefer  \n",
    "D. We should merge both templates  \n",
    "\n",
    "<details class=\"alert alert-info\"><summary style=\"cursor:pointer; display:list-item\">ℹ️ Hint (for your review after class)</summary>\n",
    "\n",
    "Which matters more for the function design... the *input* parameter or the *output*?\n",
    "\n",
    "</details>\n",
    "\n",
    "</div>\n"
   ]
  },
  {
   "cell_type": "code",
   "execution_count": null,
   "metadata": {},
   "outputs": [],
   "source": [
    "# Design your function here\n",
    "\n"
   ]
  },
  {
   "cell_type": "markdown",
   "metadata": {},
   "source": [
    "<details class=\"alert alert-info\"><summary style=\"cursor:pointer; display:list-item\">ℹ️ Sample solution (don't peek before trying it yourself!)</summary>\n",
    "\n",
    "```python\n",
    "def age_group_from_age(a: Age) -> AgeGroup:\n",
    "    \"\"\"\n",
    "    Returns the age group a person of age `a` belongs to.\n",
    "    \"\"\"\n",
    "    # return AgeGroup.infant # stub\n",
    "    # template from Age\n",
    "    # return ...(a) # template\n",
    "    if a <= 2:\n",
    "        return AgeGroup.INFANT\n",
    "    elif a <= 12:\n",
    "        return AgeGroup.CHILD\n",
    "    elif a <= 17:\n",
    "        return AgeGroup.TEEN\n",
    "    elif a <= 64:\n",
    "        return AgeGroup.ADULT\n",
    "    else:\n",
    "        return AgeGroup.SENIOR\n",
    "\n",
    "\n",
    "start_testing()\n",
    "expect(age_group_from_age(0), AgeGroup.INFANT)\n",
    "expect(age_group_from_age(2), AgeGroup.INFANT)\n",
    "expect(age_group_from_age(3), AgeGroup.CHILD)\n",
    "expect(age_group_from_age(12), AgeGroup.CHILD)\n",
    "expect(age_group_from_age(13), AgeGroup.TEEN)\n",
    "expect(age_group_from_age(17), AgeGroup.TEEN)\n",
    "expect(age_group_from_age(18), AgeGroup.ADULT)\n",
    "expect(age_group_from_age(64), AgeGroup.ADULT)\n",
    "expect(age_group_from_age(65), AgeGroup.SENIOR)\n",
    "expect(age_group_from_age(115), AgeGroup.SENIOR)\n",
    "summary()\n",
    "```\n",
    "                                                                                                                 \n",
    "</details>\n"
   ]
  }
 ],
 "metadata": {
  "kernelspec": {
   "display_name": "Python 3 (ipykernel)",
   "language": "python",
   "name": "python3"
  },
  "language_info": {
   "codemirror_mode": {
    "name": "ipython",
    "version": 3
   },
   "file_extension": ".py",
   "mimetype": "text/x-python",
   "name": "python",
   "nbconvert_exporter": "python",
   "pygments_lexer": "ipython3",
   "version": "3.9.13"
  }
 },
 "nbformat": 4,
 "nbformat_minor": 2
}
