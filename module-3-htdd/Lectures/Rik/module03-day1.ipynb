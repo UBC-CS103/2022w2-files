{
 "cells": [
  {
   "cell_type": "code",
   "execution_count": null,
   "metadata": {},
   "outputs": [],
   "source": [
    "from cs103 import *\n",
    "# call help with a 'library' (in quotes) to get info about it\n",
    "help('cs103')"
   ]
  },
  {
   "cell_type": "markdown",
   "metadata": {},
   "source": [
    "# CPSC 103 - Systematic Program Design\n",
    "# Module 03 Day 1\n",
    "Rik Blok, with thanks to Prof. Giulia Toti\n",
    "\n",
    "---"
   ]
  },
  {
   "cell_type": "markdown",
   "metadata": {},
   "source": [
    "# Reminders\n",
    "- Wed: Module 2 (HtDF): Code Review\n",
    "- Wed: Module 2 (HtDF): Tutorial\n",
    "- Mon: Module 3 (HtDD): Worksheet\n",
    "- Mon: Module 4: Pre-Lecture Assignment\n",
    "- Mon: Project: Team Registration (only required if you're working with a partner)\n",
    "\n",
    "See also the [course calendar](https://canvas.ubc.ca/calendar?include_contexts=course_106343) (**[v.gd/6KJtbx](https://v.gd/6KJtbx)**).\n",
    "\n",
    "---"
   ]
  },
  {
   "cell_type": "markdown",
   "metadata": {},
   "source": [
    "# Your progress so far\n",
    "\n",
    "#### Module 1: \n",
    "- You learned the basics of Python syntax and how to use Jupyter notebooks to run Python code\n",
    "- You gained an understanding of variables and functions\n",
    "\n",
    "#### Module 2:\n",
    "- You learned the How to Design Functions (HtDF) recipe, which allows you to write clear and well-structured functions\n",
    "\n",
    "---"
   ]
  },
  {
   "cell_type": "markdown",
   "metadata": {},
   "source": [
    "# Module learning goals\n",
    "\n",
    "By the end of this module, you will be able to:\n",
    "\n",
    "- Use the How to Design Data (HtDD) recipe to design data definitions. \n",
    "- Identify problem domain information that should be represented as simple atomic data, intervals, enumerations, and optionals. \n",
    "- Use the Data Driven Templates recipe to generate templates for functions operating on data of a user-defined type. \n",
    "- Use the How to Design Functions (HtDF) recipe to design functions operating on data of a user-defined type. \n",
    "\n",
    "---"
   ]
  },
  {
   "cell_type": "markdown",
   "metadata": {},
   "source": [
    "# Modeling information\n",
    "\n",
    "- We need to connect the data from our program with information from our problem (and vice versa)\n",
    "- The HtDD recipe helps us to represent the information of the problem as data in your program, using the best format\n",
    "- Then the HtDF can solve the problem using this data \n",
    "\n",
    "<div style=\"width: 100%\">\n",
    "    <a title=\"How to Design Programs, Second Edition\" href=\"https://htdp.org/2022-8-7/Book/part_one.html#%28counter._%28figure._fig~3adata-info%29%29\"><img alt=\"From information to data, and back\" src=\"https://raw.github.students.cs.ubc.ca/rikblok/public/main/CPSC103/module03-from-info-to-data-and-back.gif?token=GHSAT0AAAAAAAAAEO3CWUGP5S5CF7GR2YEWY65MZDA\"></a>\n",
    "</div>\n",
    "\n",
    "---"
   ]
  },
  {
   "cell_type": "markdown",
   "metadata": {},
   "source": [
    "<img style=\"float: right; width:10%\" src=\"https://lthub.ubc.ca/files/2020/07/iClicker-Cloud-Logo.png\">\n",
    "\n",
    "# iClicker question: Information and data\n",
    "Our program is storing the following data in a variable: `100`.  How could this data be interpreted as information in a relevant problem domain?\n",
    "\n",
    "<!-- formatting: add two spaces at end of line to force linebreak -->\n",
    "\n",
    "A. 100 students in a course  \n",
    "B. The width of a 100×100 pixel image  \n",
    "C. $100 in a bank account  \n",
    "D. All of the above  \n",
    "E. None of the above  \n",
    "\n",
    "<details>\n",
    "\n",
    "- The problem domain guides the representation of information as data\n",
    "- Data without domain knowledge is meaningless!\n",
    "- The programmer's job is to bridge the divide so the user can work with *information* and the program can work with *data*\n",
    "\n",
    "</details>\n",
    "\n",
    "---"
   ]
  },
  {
   "cell_type": "markdown",
   "metadata": {},
   "source": [
    "# Primitive vs. non-primitive data\n",
    "\n",
    "#### Primitive Python data\n",
    "Data provided by Python, without any meaning attached. They are also called *atomic non-distinct*. \n",
    "\n",
    "Examples: `int`, `float`, `str`, `bool`\n",
    "\n",
    "#### Glossary\n",
    "- *Primitive*: Built into Python\n",
    "- *Atomic*: Can't be broken down into smaller pieces\n",
    "- *Distinct*: A specific value (e.g., `False`, `-3`, or `'hi'`)  \n",
    "- *Non-distinct*: Can take on more than one value (e.g., `bool`)\n",
    "\n",
    "\n",
    "#### Non-primitive data\n",
    "Data we create using a combination of primitive data. \n",
    "\n",
    "Examples: `age`, `height`, `name`, `grade`, ...\n",
    "\n",
    "**Non-primitive data imparts some information from the problem into Python data, enriching it with some meaning.**\n",
    "\n",
    "---"
   ]
  },
  {
   "cell_type": "markdown",
   "metadata": {},
   "source": [
    "# How to Design Data recipe (HtDD)\n",
    "\n",
    "The HtDD recipe consists of the following steps: \n",
    "1. Definition \n",
    "2. Interpretation \n",
    "3. Examples \n",
    "4. Template \n",
    "\n",
    "There are several types of data, and there is *no firm rule* for when to use a particular one... it should just fit your problem.\n",
    "\n",
    "---"
   ]
  },
  {
   "cell_type": "markdown",
   "metadata": {},
   "source": [
    "# How to Design Data recipe (HtDD)\n",
    "\n",
    "1. **Definition:** the line that tells Python the name of the new type, it is like a signature from the HtDF. \n",
    "2. **Interpretation:** describes what the new data type represents, it is like the purpose from the HtDF. \n",
    "3. **Examples:** they show how to form data of this type, usually giving special cases. \n",
    "4. **Template:** this is a one-parameter function that shows how a function acting on this data should operate. \n",
    "\n",
    "---"
   ]
  },
  {
   "cell_type": "markdown",
   "metadata": {},
   "source": [
    "# HtDD naming conventions\n",
    "\n",
    "1. **Data** type names use `UpperCamelCase` [[Wikipedia](https://en.wikipedia.org/wiki/Camel_case)].  E.g.,\n",
    "```python\n",
    "MovieTitle = ...\n",
    "```\n",
    "2. **Interpretation** starts with `# interp.`.  E.g.,\n",
    "```python\n",
    "# interp. Stores the name of a movie.\n",
    "```\n",
    "3. **Examples** are in `ALL_CAPS` [[Wikipedia](https://en.wikipedia.org/wiki/All_caps)] and often use abbreviated type name, followed by a number.  E.g.,\n",
    "```python\n",
    "MT1 = ...\n",
    "MT2 = ...\n",
    "MT_FAVOURITE = ...\n",
    "```\n",
    "4. **Template** function names start with `fn_for_`, then the type name in `snake_case` [[Wikipedia](https://en.wikipedia.org/wiki/Snake_case)].  \n",
    "Parameter names in lowercase, usually abbreviation of data type name.  E.g.,\n",
    "```python\n",
    "def fn_for_movie_title(mt: MovieTitle) -> ...:\n",
    "```\n",
    "5. (**Variables and functions** - for consistency, let's also use `snake_case` for variables and functions and parameters, moving forward)\n",
    "\n",
    "See also the course [Style Guide](https://canvas.ubc.ca/courses/106343/pages/style-guide?module_item_id=5186602).\n",
    "\n",
    "#### Benefits:\n",
    "- Provides additional information about the use of an identifier\n",
    "- Reduces ambiguity\n",
    "- Promotes code sharing and re-use\n",
    "\n",
    "---"
   ]
  },
  {
   "cell_type": "markdown",
   "metadata": {},
   "source": [
    "# Data types\n",
    "\n",
    "#### Now:\n",
    "- Simple atomic data\n",
    "- Interval\n",
    "- Enumeration\n",
    "- Optional\n",
    "\n",
    "#### Later:\n",
    "- Compound data (Module 4)\n",
    "- Arbitrary-sized (Module 5)\n",
    "\n",
    "---"
   ]
  },
  {
   "cell_type": "markdown",
   "metadata": {},
   "source": [
    "# Simple atomic data\n",
    "\n",
    "When the information to be represented is itself atomic in form. Usually these are just the primitive data with a better name and description. \n",
    "\n",
    "```python\n",
    "Temperature = float \n",
    "# interp. the air temperature in degrees Celsius\n",
    "\n",
    "T1 = 0.0 \n",
    "T2 = -24.5 \n",
    " \n",
    "@typecheck \n",
    "# template based on Atomic Non-Distinct \n",
    "def fn_for_temperature(t: Temperature) -> ...: \n",
    "\treturn ...(t) \n",
    "```\n",
    "\n",
    "---"
   ]
  },
  {
   "cell_type": "markdown",
   "metadata": {},
   "source": [
    "<img style=\"float: right; width:10%\" src=\"https://lthub.ubc.ca/files/2020/07/iClicker-Cloud-Logo.png\">\n",
    "\n",
    "# iClicker question: Simple atomic\n",
    "Which of the following are examples of information that would be best represented with **simple atomic** data types?  Select **ALL** that apply.\n",
    "\n",
    "<!-- formatting: add two spaces at end of line to force linebreak -->\n",
    "\n",
    "A. The temperature of liquid water at standard atmospheric pressure  \n",
    "B. Allergies that a patient has  \n",
    "C. The name of a book  \n",
    "D. A blood type, such as A, B, AB, or O  \n",
    "E. A phone number  \n",
    "\n",
    "<details>\n",
    "    \n",
    "A. Under these conditions water is liquid between 0°C and 100°C  \n",
    "B. A patient might not have any allergies  \n",
    "C. Might be any string  \n",
    "D. Humans have four distinct blood types  \n",
    "E. Phone numbers can vary in number of digits and may contain special codes, such as `*` and `#`.  When presented they may also contain `-`, `+`, or other symbols   \n",
    "\n",
    "</details>\n",
    "\n",
    "---"
   ]
  },
  {
   "cell_type": "markdown",
   "metadata": {},
   "source": [
    "# Interval\n",
    "\n",
    "When the information to be represented is numbers within a certain range. \n",
    "\n",
    "```python\n",
    "Time = int # in range[0, 86400) \n",
    "# interp. seconds since midnight\n",
    "\n",
    "T_MIDNIGHT = 0 \n",
    "T_ONE_AM = 3600 \n",
    "T_NOON = 43200 \n",
    "T_END_OF_DAY = 86399\n",
    "\n",
    "@typecheck \n",
    "# Template based on Atomic Non-Distinct \n",
    "def fn_for_time(t: Time) -> ...: \n",
    "\treturn ...(t)\n",
    "```\n",
    "\n",
    "- Range is just a comment for the programmer, not enforced by Python\n",
    "- Square and round bracket notation borrowed from math\n",
    "- Recall: `[]` means the endpoint is *included* and `()` means it is *excluded*\n",
    "- Use `...` to indicate no limit, e.g., `WaterDepth = float # in range (...,0]`\n",
    "\n",
    "---"
   ]
  },
  {
   "cell_type": "markdown",
   "metadata": {},
   "source": [
    "<img style=\"float: right; width:10%\" src=\"https://lthub.ubc.ca/files/2020/07/iClicker-Cloud-Logo.png\">\n",
    "\n",
    "# iClicker question: Interval\n",
    "Which of the following are examples of information that would be best represented with **interval** data types?  Select **ALL** that apply.\n",
    "\n",
    "<!-- formatting: add two spaces at end of line to force linebreak -->\n",
    "\n",
    "A. The name of someone's sibling  \n",
    "B. A percentage score on a test  \n",
    "C. A temperature in Celsius  \n",
    "D. Whether a user is logged in  \n",
    "E. The wavelength of a visible photon  \n",
    "\n",
    "<details>\n",
    "    \n",
    "A. Someone might not have a sibling  \n",
    "B. A number between 0 and 100 (inclusive)  \n",
    "C. The temperature at the North pole?  Or on the surface of the sun?  Should we limit the range?\n",
    "D. Either they are or aren't 😉  \n",
    "E. Our eyes can detect light between 400nm and 700nm  \n",
    "\n",
    "</details>\n",
    "\n",
    "---"
   ]
  },
  {
   "cell_type": "markdown",
   "metadata": {},
   "source": [
    "# Enumeration\n",
    "\n",
    "When the information to be represented consists of a fixed number of distinct values. \n",
    "\n",
    "```python\n",
    "from enum import Enum \n",
    "\n",
    "Rock = Enum('Rock', ['ig', 'me', 'se']) \n",
    "# interp. a rock is either igneous ('ig'), metamorphic ('me'), or sedimentary ('se')\n",
    "\n",
    "# examples are redundant for enumerations\n",
    "\n",
    "@typecheck \n",
    "# Template based on Enumeration (3 cases) \n",
    "def fn_for_rock(r: Rock) -> ...: \n",
    "\tif r == Rock.ig: \n",
    "\t\treturn ... \n",
    "\telif r == Rock.me: \n",
    "\t\treturn ... \n",
    "\telif r == Rock.se: \n",
    "\t\treturn ... \n",
    "```\n",
    "\n",
    "- Python treats cases in definition as allowed distinct values, using \"dot notation\" instead of strings\n",
    "- Advantage over strings: Restricts allowed values\n",
    "```python\n",
    "my_rock = Rock.ig          # distinct Enum values allowed (good!)\n",
    "my_rock = \"kryptonite\"     # any string allowed by Python (bad!)\n",
    "my_rock = Rock.kryptonite  # will produce error (good!)\n",
    "```\n",
    "- Note that `# examples are redundant for enumerations` so just write that\n",
    "- One branch per option in template, all separated with `elif` (don't use `else` to catch other cases)\n",
    "\n",
    "---"
   ]
  },
  {
   "cell_type": "markdown",
   "metadata": {},
   "source": [
    "<img style=\"float: right; width:10%\" src=\"https://lthub.ubc.ca/files/2020/07/iClicker-Cloud-Logo.png\">\n",
    "\n",
    "# iClicker question: Enumeration\n",
    "Which of the following are examples of information that would be best represented with **enumeration** data types?  Select **ALL** that apply.\n",
    "\n",
    "<!-- formatting: add two spaces at end of line to force linebreak -->\n",
    "\n",
    "A. An individual's emergency contact  \n",
    "B. The day of the week  \n",
    "C. How much money there is in a bank account  \n",
    "D. A music genre played by a streaming channel  \n",
    "E. The number of pages in a book  \n",
    "\n",
    "<details>\n",
    "    \n",
    "A. They may not have an emergency contact  \n",
    "B. Seven distinct values  \n",
    "C. Could be positive 🙂 or negative 😢  \n",
    "D. A channel typically plays music from several genres  \n",
    "E. A book has at least one page  \n",
    "\n",
    "</details>\n",
    "\n",
    "---"
   ]
  },
  {
   "cell_type": "markdown",
   "metadata": {},
   "source": [
    "# Optional\n",
    "\n",
    "When the information to be represented is well-represented by another form of data (often simple atomic or interval) except for one special case. \n",
    "\n",
    "```python\n",
    "from typing import Optional \n",
    "\n",
    "Countdown = Optional[int] # in range[0, 10] \n",
    "# interp. a countdown that has not started yet (None), \n",
    "# or is counting down from 10 to 0 \n",
    "\n",
    "C0 = None \n",
    "C1 = 10 \n",
    "C2 = 7 \n",
    "C3 = 0 \n",
    "\n",
    "@typecheck \n",
    "# Template based on Optional \n",
    "def fn_for_countdown(c: Countdown) -> ...: \n",
    "\tif c == None: \n",
    "\t\treturn ... \n",
    "    else: \n",
    "        return ...(c) \n",
    "```\n",
    "\n",
    "---"
   ]
  },
  {
   "cell_type": "markdown",
   "metadata": {},
   "source": [
    "<img style=\"float: right; width:10%\" src=\"https://lthub.ubc.ca/files/2020/07/iClicker-Cloud-Logo.png\">\n",
    "\n",
    "# iClicker question: Optional\n",
    "Which of the following are examples of information that would be best represented with **optional** data types?  Select **ALL** that apply.\n",
    "\n",
    "<!-- formatting: add two spaces at end of line to force linebreak -->\n",
    "\n",
    "A. A person's job title  \n",
    "B. A season of the year  \n",
    "C. A user's middle name  \n",
    "D. The age of a voter in a BC election  \n",
    "E. A description of the weather  \n",
    "\n",
    "<details>\n",
    "    \n",
    "A. They might not have a job  \n",
    "B. There are four seasons  \n",
    "C. Not everyone has a middle name  \n",
    "D. You must be at least 19 to vote in a BC election  \n",
    "E. Weather can be highly variable!  Don't restrict your description  \n",
    "\n",
    "\n",
    "</details>\n",
    "\n",
    "---"
   ]
  },
  {
   "cell_type": "markdown",
   "metadata": {},
   "source": [
    "# Templates\n",
    "\n",
    "#### Data template\n",
    "This is a one-parameter function that shows how a function operating on this data should operate. \n",
    "\n",
    "#### How to use with function template\n",
    "When writing function with HtDF recipe, in Step 3 \"Template\", use data template instead of writing your own:\n",
    "- Comment out the body of the stub, as usual\n",
    "- Then **copy the body of template from the data definition to the function**\n",
    "- If there is no data definition, just copy all parameters (as we did in HtDF for atomic non-distinct data) \n",
    "\n",
    "References: [How to Design Data](https://canvas.ubc.ca/courses/106343/modules/items/5186606) and [Data Driven Templates](https://canvas.ubc.ca/courses/106343/modules/items/5186607) modules on Canvas\n",
    "\n",
    "---"
   ]
  },
  {
   "cell_type": "markdown",
   "metadata": {},
   "source": [
    "## \"Standing\" problem\n",
    "\n",
    "**Problem:** Design a function that takes a standing (SD for \"standing deferred\",\n",
    "AUD for \"audit\", and W for \"withdraw\") and determines whether the\n",
    "student is still working on the course where they earned that\n",
    "standing.\n",
    "\n",
    "To do this, we'll need a data definition for a standing, first."
   ]
  },
  {
   "cell_type": "markdown",
   "metadata": {},
   "source": [
    "<img style=\"float: right; width:10%\" src=\"https://lthub.ubc.ca/files/2020/07/iClicker-Cloud-Logo.png\">\n",
    "\n",
    "# iClicker question: Data definition\n",
    "How do we represent \"Standing\" in a way that is understandable and meaningful in Python?\n",
    "\n",
    "<!-- formatting: add two spaces at end of line to force linebreak -->\n",
    "\n",
    "A. Simple atomic  \n",
    "B. Interval  \n",
    "C. Enumeration  \n",
    "D. Optional  \n",
    "E. Something else"
   ]
  },
  {
   "cell_type": "markdown",
   "metadata": {},
   "source": [
    "## \"Standing\" solution\n",
    "\n",
    "**Problem:** Design a function that takes a standing (SD for \"standing deferred\",\n",
    "AUD for \"audit\", and W for \"withdraw\") and determines whether the\n",
    "student is still working on the course where they earned that\n",
    "standing.\n",
    "\n",
    "Note:\n",
    "- You don't need to memorize the library for the data definition.  Just look it up!\n",
    "```python\n",
    "# Simple atomic doesn't require a library\n",
    "# Interval doesn't require a library\n",
    "from enum import Enum        # Enumeration\n",
    "from typing import Optional  # Optional\n",
    "```\n",
    "\n",
    "<details><summary>▶ Sample solution (For later.  Don't peek if you want to learn 🙂)</summary>\n",
    "    \n",
    "```python\n",
    "\n",
    "from enum import Enum\n",
    "\n",
    "Standing = Enum('Standing', ['SD', 'AUD', 'W'])\n",
    "# interpr. the standing of a student in a course, which is either SD for\n",
    "# \"standing deferred\", AUD for \"audit\", and W for \"withdraw\n",
    "\n",
    "# examples are redundant for enumeration\n",
    "\n",
    "@typecheck\n",
    "# Template for Enumeration (3 cases)\n",
    "def fn_for_standing(s: Standing) -> ...:\n",
    "    if s == Standing.SD:\n",
    "        return ...\n",
    "    elif s == Standing.AUD:\n",
    "        return ...\n",
    "    elif s == Standing.W:\n",
    "        return ...\n",
    "    \n",
    "```\n",
    "    \n",
    "</details>"
   ]
  },
  {
   "cell_type": "code",
   "execution_count": null,
   "metadata": {},
   "outputs": [],
   "source": [
    "Standing = ... # TODO!\n",
    "\n"
   ]
  },
  {
   "cell_type": "markdown",
   "metadata": {},
   "source": [
    "Now we can design – using the HtDF recipe – the function that takes a standing and \"determines whether the student is still working on the course where they earned that standing.\"\n",
    "\n",
    "Notice that the \"Template\" step in the HtDF recipe changes from **writing** a template to instead **copying** a template."
   ]
  },
  {
   "cell_type": "code",
   "execution_count": null,
   "metadata": {},
   "outputs": [],
   "source": [
    "@typecheck\n",
    "def still_working(s: Standing) -> ...:\n",
    "    \"\"\"\n",
    "    TODO!\n",
    "    \"\"\"\n",
    "    return 0  # INCORRECT stub\n",
    "\n",
    "start_testing()\n",
    "#expect(still_working(TODO), TODO)\n",
    "summary()"
   ]
  },
  {
   "cell_type": "markdown",
   "metadata": {},
   "source": [
    "# Re-using our \"Standing\" data definition\n",
    "A single data definition usually gets used for many different functions in your program, but we often only have time for one in class, tutorial, and assignments. Let's do a second design here!\n",
    "\n",
    "**Problem:** Design a function that takes a standing (as above) and returns an English explanation of what the standing means.\n",
    "\n",
    "We already have the data definition, which guides our function design. Indeed, the designed function is very similar to the previous one. Finding where it's *different* may tell you a lot about why examples and templates are useful!"
   ]
  },
  {
   "cell_type": "code",
   "execution_count": null,
   "metadata": {},
   "outputs": [],
   "source": [
    "@typecheck\n",
    "def describe_standing(s: Standing) -> ...:\n",
    "    \"\"\"\n",
    "    returns an English description of s\n",
    "    \"\"\"\n",
    "    return 0  # INCORRECT stub\n",
    "\n",
    "start_testing()\n",
    "# We've gone ahead and filled in the test cases already to help move us along a bit!\n",
    "# The HtDD recipe tells us we should have one test for every value in the Standing enumeration!\n",
    "expect(describe_standing(Standing.SD), \"Standing Deferred: awaiting completion of some additional requirement\")\n",
    "expect(describe_standing(Standing.AUD), \"Auditing: sat in on the course for credit, but not for a grade\")\n",
    "expect(describe_standing(Standing.W), \"Withdrawn: Withdrew from the course after the add/drop deadline\")\n",
    "summary()"
   ]
  },
  {
   "cell_type": "markdown",
   "metadata": {},
   "source": [
    "Well done! Now, write a call to `describe_standing`:"
   ]
  },
  {
   "cell_type": "code",
   "execution_count": null,
   "metadata": {},
   "outputs": [],
   "source": [
    "# Call describe_standing"
   ]
  }
 ],
 "metadata": {
  "kernelspec": {
   "display_name": "Python 3 (ipykernel)",
   "language": "python",
   "name": "python3"
  },
  "language_info": {
   "codemirror_mode": {
    "name": "ipython",
    "version": 3
   },
   "file_extension": ".py",
   "mimetype": "text/x-python",
   "name": "python",
   "nbconvert_exporter": "python",
   "pygments_lexer": "ipython3",
   "version": "3.9.13"
  }
 },
 "nbformat": 4,
 "nbformat_minor": 2
}
